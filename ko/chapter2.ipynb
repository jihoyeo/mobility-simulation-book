{
 "cells": [
  {
   "cell_type": "markdown",
   "id": "77cb1c35",
   "metadata": {},
   "source": [
    "<table align=\"left\">\n",
    "  <td>\n",
    "    <a target=\"_blank\" href=\"https://colab.research.google.com/github/jihoyeo/mobility-simulation-book/blob/main/ko/chapter2.ipynb\"><img src=\"https://www.tensorflow.org/images/colab_logo_32px.png\" />구글 코랩에서 실행하기</a>\n",
    "  </td>\n",
    "</table>\n",
    "<br>"
   ]
  },
  {
   "cell_type": "markdown",
   "id": "92aee745",
   "metadata": {},
   "source": [
    "\n",
    "# 2. Data Preparation\n",
    "\n",
    "본 챕터에서는 모빌리티 시뮬레이션을 구축하는데 필요한 기본적인 입력데이터들을 살펴본다. 단순히 데이터를 살펴보는데서 끝나지 않고 간단한 데이터의 전처리 및 시각화의 실습과정도 포함하고 있다.\n",
    "\n",
    "매우 다양한 형태의 모빌리티 데이터가 존재하며, 이들을 분류하는 기준 역시 분석자의 목표에 따라 여려가지로 구분할 수 있지만 본 책에서는 크게 아래와 같은 형태의 데이터를 살펴볼 것이다.\n",
    "1. 통행수요 데이터 (Travel Demand)\n",
    "    - 시뮬레이션을 하기 위한 승객의 수요를 생성하는 기초자료로 활용됨\n",
    "    - 수도권 생활이동 데이터 & 스마트카드 데이터\n",
    "2. 통행시간 데이터 (Travel Time)\n",
    "    - 시뮬레이션을 Calibration 하는데 활용\n",
    "    - e.g., 출퇴근 시간의 교통 정체, 새벽시간대의 빠른 속도를 시뮬레이션에 반영 가능함\n",
    "3. 도로 네트워크 데이터 (Road Network)\n",
    "    - 도로 위를 움직이는 차량 구현 (Vehicle Router)\n",
    "4. 대중교통 네트워크 데이터 (Public Transit Network)\n",
    "    - 버스, 지하철과 같은 노선과 배차간격이 정해진 모빌리티 시스템을 구현하는데 사용"
   ]
  }
 ],
 "metadata": {
  "jupytext": {
   "cell_metadata_filter": "-all",
   "main_language": "python",
   "notebook_metadata_filter": "-all"
  },
  "kernelspec": {
   "display_name": "base",
   "language": "python",
   "name": "python3"
  },
  "language_info": {
   "codemirror_mode": {
    "name": "ipython",
    "version": 3
   },
   "file_extension": ".py",
   "mimetype": "text/x-python",
   "name": "python",
   "nbconvert_exporter": "python",
   "pygments_lexer": "ipython3",
   "version": "3.12.2"
  }
 },
 "nbformat": 4,
 "nbformat_minor": 5
}
