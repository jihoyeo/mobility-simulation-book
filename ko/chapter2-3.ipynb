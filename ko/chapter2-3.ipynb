{
 "cells": [
  {
   "cell_type": "markdown",
   "id": "77cb1c35",
   "metadata": {},
   "source": [
    "<table align=\"left\">\n",
    "  <td>\n",
    "    <a target=\"_blank\" href=\"https://colab.research.google.com/github/jihoyeo/mobility-simulation-book/blob/main/ko/chapter2.ipynb\"><img src=\"https://www.tensorflow.org/images/colab_logo_32px.png\" />구글 코랩에서 실행하기</a>\n",
    "  </td>\n",
    "</table>\n",
    "<br>"
   ]
  },
  {
   "cell_type": "markdown",
   "id": "e8ede248",
   "metadata": {},
   "source": [
    "## 2.3 Travel Time Data (Taxi Trip Record)\n",
    "\n",
    "- 지금까지는 통행량 데이터를 살펴보았습니다. 이 장에서는 통행시간 데이터를 살펴봅니다.\n",
    "- 스마트카드(지하철,버스), 택시 탑승 및 호출 이력, 스마트폰 GPS 데이터 등 다양한 경로를 통해 여러분들의 이동 데이터가 수집되고 있습니다.\n",
    "- 그 중 택시 데이터는 승차와 하차의 정확한 위치와 시간을 알 수 있다는 점에서 데이터의 신뢰성이 높습니다.\n",
    "- 다양한 국가에서 이미 표준화된 형태의 택시 승하차 데이터를 공개하고 있습니다.\n",
    "    - [Ney York City Taxi Trip Duration Data](https://www.kaggle.com/competitions/nyc-taxi-trip-duration/data)\n",
    "    - [Chicago Taxi Trips data](https://data.cityofchicago.org/Transportation/Taxi-Trips-2013-2023-/wrvz-psew/about_data)\n",
    "- 본 장에서는 서울의 택시 승하차 이력 데이터를 살펴보겠습니다. 다만, 국내의 경우 택시승하차 데이터가 오픈되어있지 않으므로, 여기선 가상의 데이터를 활용합니다.\n",
    "    - 본 실습 데이터는 실제 데이터가 아니며, 분석을 위해 랜덤하게 생생된 1일치의 데이터입니다. \n",
    "    - 국내도 데이터 개방이 더 활성화 되어, 미국의 주요도시처럼 택시 및 스마트카드 데이터가 공개되는 날이 오기를 희망합니다."
   ]
  },
  {
   "cell_type": "markdown",
   "id": "6178fa09",
   "metadata": {},
   "source": [
    "### 2.3.1 데이터 읽기"
   ]
  },
  {
   "cell_type": "code",
   "execution_count": 3,
   "id": "dd6a90b0",
   "metadata": {},
   "outputs": [],
   "source": [
    "import pandas as pd\n",
    "import os\n",
    "from datetime import datetime, timedelta"
   ]
  },
  {
   "cell_type": "code",
   "execution_count": 4,
   "id": "1deaa136",
   "metadata": {},
   "outputs": [],
   "source": [
    "# 시각화 라이브러리\n",
    "import matplotlib.pyplot as plt\n",
    "import matplotlib as mpl\n",
    "import seaborn as sns\n",
    "\n",
    "# 한글 폰트 설정 (Windows 환경)\n",
    "plt.rcParams['font.family'] = 'Malgun Gothic'\n",
    "plt.rcParams['axes.unicode_minus'] = False  # 마이너스 기호 깨짐 방지\n",
    "\n",
    "# seaborn 스타일 적용\n",
    "sns.set(font='Malgun Gothic', rc={\"axes.unicode_minus\": False})\n",
    "\n",
    "# 그래프 크기 기본 설정\n",
    "plt.rcParams['figure.figsize'] = (10, 6)"
   ]
  },
  {
   "cell_type": "code",
   "execution_count": 5,
   "id": "128f1c63",
   "metadata": {
    "lines_to_next_cell": 1
   },
   "outputs": [],
   "source": [
    "def download_and_read_parquet(file_id, output_path=\"../data/chp2_tx_data_generated.parquet\"):\n",
    "    try:\n",
    "        # Google Drive에서 파일 다운로드\n",
    "        gdown.download(id=file_id, output=output_path, quiet=False)\n",
    "        \n",
    "        # Parquet 파일을 DataFrame으로 읽기\n",
    "        df = pd.read_parquet(output_path)\n",
    "        \n",
    "        # 임시 파일 삭제 (데이터 용량이 매우 큰 경우 사용)\n",
    "        # os.remove(output_path) # 다운로드 받은 데이터를 삭제하고 싶지 않을 때는 해당 라인을 주석처리\n",
    "        \n",
    "        return df\n",
    "    except Exception as e:\n",
    "        print(f\"오류 발생: {e}\")\n",
    "        return None"
   ]
  },
  {
   "cell_type": "code",
   "execution_count": 6,
   "id": "40791e6c",
   "metadata": {},
   "outputs": [],
   "source": [
    "# 파일 불러오기\n",
    "file_id = \"1uJj-C_7pTkcRk8p5lYah-9Fp660OvS4b\" # 구글 드라이브에 업로드 된 파일의 ID\n",
    "# tx_data = download_and_read_parquet(file_id)\n",
    "tx_data = pd.read_parquet('../data/chp2_tx_data_generated.parquet')"
   ]
  },
  {
   "cell_type": "markdown",
   "id": "4ab01dc1",
   "metadata": {},
   "source": [
    "- 데이터의 시간 형식이 숫자형태로 되어있다. 이렇게 되어있을 경우 보기가 불편하고, 시간단위 연산이 어렵기 때문에 시간 타입의 데이터로 변환해주는 것이 좋다"
   ]
  },
  {
   "cell_type": "code",
   "execution_count": 7,
   "id": "7c47e489",
   "metadata": {},
   "outputs": [],
   "source": [
    "# 시간 데이터 형식 변횐\n",
    "tx_data['RIDE_DTIME'] = pd.to_datetime(tx_data['RIDE_DTIME'], format=\"%Y%m%d%H%M%S\")\n",
    "tx_data['ALIGHT_DTIME'] = pd.to_datetime(tx_data['ALIGHT_DTIME'], format=\"%Y%m%d%H%M%S\")\n",
    "\n",
    "# 통행시간 계산\n",
    "tx_data['TRAVEL_TIME'] = (tx_data['ALIGHT_DTIME'] - tx_data['RIDE_DTIME']) / pd.Timedelta(minutes=1)"
   ]
  },
  {
   "cell_type": "code",
   "execution_count": 8,
   "id": "de9e900c",
   "metadata": {},
   "outputs": [
    {
     "data": {
      "text/html": [
       "<div>\n",
       "<style scoped>\n",
       "    .dataframe tbody tr th:only-of-type {\n",
       "        vertical-align: middle;\n",
       "    }\n",
       "\n",
       "    .dataframe tbody tr th {\n",
       "        vertical-align: top;\n",
       "    }\n",
       "\n",
       "    .dataframe thead th {\n",
       "        text-align: right;\n",
       "    }\n",
       "</style>\n",
       "<table border=\"1\" class=\"dataframe\">\n",
       "  <thead>\n",
       "    <tr style=\"text-align: right;\">\n",
       "      <th></th>\n",
       "      <th>RIDE_DTIME</th>\n",
       "      <th>RIDE_POS_X</th>\n",
       "      <th>RIDE_POS_Y</th>\n",
       "      <th>ALIGHT_DTIME</th>\n",
       "      <th>ALIGHT_POS_X</th>\n",
       "      <th>ALIGHT_POS_Y</th>\n",
       "      <th>TRAVEL_TIME</th>\n",
       "    </tr>\n",
       "  </thead>\n",
       "  <tbody>\n",
       "    <tr>\n",
       "      <th>0</th>\n",
       "      <td>2022-05-01 00:00:00</td>\n",
       "      <td>126.886907</td>\n",
       "      <td>37.482125</td>\n",
       "      <td>2022-05-01 00:07:04</td>\n",
       "      <td>126.896551</td>\n",
       "      <td>37.470549</td>\n",
       "      <td>7.066667</td>\n",
       "    </tr>\n",
       "    <tr>\n",
       "      <th>1</th>\n",
       "      <td>2022-05-01 00:00:00</td>\n",
       "      <td>126.960889</td>\n",
       "      <td>37.507369</td>\n",
       "      <td>2022-05-01 00:19:35</td>\n",
       "      <td>127.113011</td>\n",
       "      <td>37.503858</td>\n",
       "      <td>19.583333</td>\n",
       "    </tr>\n",
       "    <tr>\n",
       "      <th>2</th>\n",
       "      <td>2022-05-01 00:00:00</td>\n",
       "      <td>127.101762</td>\n",
       "      <td>37.467082</td>\n",
       "      <td>2022-05-01 00:13:08</td>\n",
       "      <td>127.052796</td>\n",
       "      <td>37.540526</td>\n",
       "      <td>13.133333</td>\n",
       "    </tr>\n",
       "    <tr>\n",
       "      <th>3</th>\n",
       "      <td>2022-05-01 00:00:00</td>\n",
       "      <td>127.055634</td>\n",
       "      <td>37.589778</td>\n",
       "      <td>2022-05-01 00:10:50</td>\n",
       "      <td>127.087957</td>\n",
       "      <td>37.597224</td>\n",
       "      <td>10.833333</td>\n",
       "    </tr>\n",
       "    <tr>\n",
       "      <th>4</th>\n",
       "      <td>2022-05-01 00:00:00</td>\n",
       "      <td>127.044648</td>\n",
       "      <td>37.567578</td>\n",
       "      <td>2022-05-01 00:03:57</td>\n",
       "      <td>127.037768</td>\n",
       "      <td>37.561673</td>\n",
       "      <td>3.950000</td>\n",
       "    </tr>\n",
       "    <tr>\n",
       "      <th>...</th>\n",
       "      <td>...</td>\n",
       "      <td>...</td>\n",
       "      <td>...</td>\n",
       "      <td>...</td>\n",
       "      <td>...</td>\n",
       "      <td>...</td>\n",
       "      <td>...</td>\n",
       "    </tr>\n",
       "    <tr>\n",
       "      <th>597090</th>\n",
       "      <td>2022-05-01 23:59:58</td>\n",
       "      <td>126.908084</td>\n",
       "      <td>37.515114</td>\n",
       "      <td>2022-05-02 00:30:52</td>\n",
       "      <td>126.781716</td>\n",
       "      <td>37.486141</td>\n",
       "      <td>30.900000</td>\n",
       "    </tr>\n",
       "    <tr>\n",
       "      <th>597091</th>\n",
       "      <td>2022-05-01 23:59:59</td>\n",
       "      <td>127.001369</td>\n",
       "      <td>37.558880</td>\n",
       "      <td>2022-05-02 00:14:48</td>\n",
       "      <td>127.034217</td>\n",
       "      <td>37.508548</td>\n",
       "      <td>14.816667</td>\n",
       "    </tr>\n",
       "    <tr>\n",
       "      <th>597092</th>\n",
       "      <td>2022-05-01 23:59:59</td>\n",
       "      <td>127.002711</td>\n",
       "      <td>37.505298</td>\n",
       "      <td>2022-05-02 00:05:59</td>\n",
       "      <td>127.011192</td>\n",
       "      <td>37.492397</td>\n",
       "      <td>6.000000</td>\n",
       "    </tr>\n",
       "    <tr>\n",
       "      <th>597093</th>\n",
       "      <td>2022-05-01 23:59:59</td>\n",
       "      <td>127.131851</td>\n",
       "      <td>37.535969</td>\n",
       "      <td>2022-05-02 00:09:24</td>\n",
       "      <td>127.160008</td>\n",
       "      <td>37.550329</td>\n",
       "      <td>9.416667</td>\n",
       "    </tr>\n",
       "    <tr>\n",
       "      <th>597094</th>\n",
       "      <td>2022-05-01 23:59:59</td>\n",
       "      <td>126.908992</td>\n",
       "      <td>37.518746</td>\n",
       "      <td>2022-05-02 00:17:20</td>\n",
       "      <td>126.876963</td>\n",
       "      <td>37.477816</td>\n",
       "      <td>17.350000</td>\n",
       "    </tr>\n",
       "  </tbody>\n",
       "</table>\n",
       "<p>597095 rows × 7 columns</p>\n",
       "</div>"
      ],
      "text/plain": [
       "                RIDE_DTIME  RIDE_POS_X  RIDE_POS_Y        ALIGHT_DTIME  \\\n",
       "0      2022-05-01 00:00:00  126.886907   37.482125 2022-05-01 00:07:04   \n",
       "1      2022-05-01 00:00:00  126.960889   37.507369 2022-05-01 00:19:35   \n",
       "2      2022-05-01 00:00:00  127.101762   37.467082 2022-05-01 00:13:08   \n",
       "3      2022-05-01 00:00:00  127.055634   37.589778 2022-05-01 00:10:50   \n",
       "4      2022-05-01 00:00:00  127.044648   37.567578 2022-05-01 00:03:57   \n",
       "...                    ...         ...         ...                 ...   \n",
       "597090 2022-05-01 23:59:58  126.908084   37.515114 2022-05-02 00:30:52   \n",
       "597091 2022-05-01 23:59:59  127.001369   37.558880 2022-05-02 00:14:48   \n",
       "597092 2022-05-01 23:59:59  127.002711   37.505298 2022-05-02 00:05:59   \n",
       "597093 2022-05-01 23:59:59  127.131851   37.535969 2022-05-02 00:09:24   \n",
       "597094 2022-05-01 23:59:59  126.908992   37.518746 2022-05-02 00:17:20   \n",
       "\n",
       "        ALIGHT_POS_X  ALIGHT_POS_Y  TRAVEL_TIME  \n",
       "0         126.896551     37.470549     7.066667  \n",
       "1         127.113011     37.503858    19.583333  \n",
       "2         127.052796     37.540526    13.133333  \n",
       "3         127.087957     37.597224    10.833333  \n",
       "4         127.037768     37.561673     3.950000  \n",
       "...              ...           ...          ...  \n",
       "597090    126.781716     37.486141    30.900000  \n",
       "597091    127.034217     37.508548    14.816667  \n",
       "597092    127.011192     37.492397     6.000000  \n",
       "597093    127.160008     37.550329     9.416667  \n",
       "597094    126.876963     37.477816    17.350000  \n",
       "\n",
       "[597095 rows x 7 columns]"
      ]
     },
     "execution_count": 8,
     "metadata": {},
     "output_type": "execute_result"
    }
   ],
   "source": [
    "tx_data"
   ]
  },
  {
   "cell_type": "markdown",
   "id": "23fe0a56",
   "metadata": {},
   "source": [
    "### 2.3.2 Basic Visualization\n",
    "\n",
    "- 통행량 데이터와 마찬가지로 간단한 시각화를 해보자.\n",
    "- 다음과 같은 오픈소스를 활용한다면 매끄럽게 시각화가 가능하다.\n",
    "    - https://kepler.gl/\n",
    "    - 데이터를 csv로 저장한 후, Kepler를 통해 시각화를 해보자.\n",
    "    - [예시](https://kepler.gl/demo/map?mapUrl=https://dl.dropboxusercontent.com/scl/fi/8k0y58t4rceqvslmvhwyl/keplergl_7sjanmo.json?rlkey=8d6d24vw7l63t2bsch5cd53m9&dl=0)\n",
    "- 통행시간의 경우 출발지-목적지(O-D) 단위로 통행시간을 시각화 하는 연습도 해보자.\n",
    "    - O-D 단위의 시각화의 경우 무수히 많은 O-D pairs가 존재하기 때문에 시각적으로 표현하기가 매우 어렵다.\n",
    "    - 또한, 지금 데이터의 공간단위가 이전에 다뤘던 행정구역과 같이 합산된 공간단위가 아니라, 세밀한 위경도 좌표로 표현되어 있기 때문에 더 어렵다.\n",
    "    - 위와 같은 문제들을 어떻게 해결할 수 있을까? "
   ]
  },
  {
   "cell_type": "code",
   "execution_count": null,
   "id": "3c2e08e8",
   "metadata": {},
   "outputs": [],
   "source": [
    "tx_data.to_csv('../data/tx_data_generated.csv')"
   ]
  },
  {
   "cell_type": "markdown",
   "id": "eb94b9b2",
   "metadata": {},
   "source": [
    "### 2.3.3 Exercise\n",
    "\n",
    "GPT와 같은 AI 툴을 적극 활용해 문제를 풀어봅시다. 다만, 출력된 코드를 보고 이해하고, 코드가 실행되지 않는다면 어디서 실행되지 않는지 파악하고 올바르게 수정할 수 있어야 합니다."
   ]
  },
  {
   "cell_type": "markdown",
   "id": "6d6cabb6",
   "metadata": {},
   "source": [
    "#### [1] 통행 시간 데이터 분석 및 시각화\n",
    "\n",
    "> 2.3 Section에서 불러온 가상의 택시 통행 데이터를 가지고 아래와 같은 분석을 수행해보자.\n",
    "\n",
    "1. 택시 통행 데이터의 각 행에, 출발지역의 행정동 코드 & 도착지역의 행정동 코드를 매핑해봅시다. 이후 아래문제를 풀어보세요. `geopandas` 패키지에 있는  `sjoin` 함수를 사용하면 됩니다. \n",
    "2. 청담동에서 출발해서 연희동 도착하는 택시 통행만을 추출하여, 출발 시간대별(1시간단위로 합산) 통행시간의 변화를 Line Graph로 그려봅시다. 언제 가장 시간이 오래 걸리나요?  "
   ]
  }
 ],
 "metadata": {
  "jupytext": {
   "cell_metadata_filter": "-all",
   "main_language": "python",
   "notebook_metadata_filter": "-all"
  },
  "kernelspec": {
   "display_name": "base",
   "language": "python",
   "name": "python3"
  },
  "language_info": {
   "codemirror_mode": {
    "name": "ipython",
    "version": 3
   },
   "file_extension": ".py",
   "mimetype": "text/x-python",
   "name": "python",
   "nbconvert_exporter": "python",
   "pygments_lexer": "ipython3",
   "version": "3.12.2"
  }
 },
 "nbformat": 4,
 "nbformat_minor": 5
}
