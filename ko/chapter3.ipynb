{
 "cells": [
  {
   "cell_type": "markdown",
   "metadata": {},
   "source": [
    "#  3. Models for Predicting Estimated Time of Arrival"
   ]
  },
  {
   "cell_type": "markdown",
   "metadata": {},
   "source": [
    "## 3.1 Problem Definitions for Predicting Estimated Time of Arrival"
   ]
  },
  {
   "cell_type": "markdown",
   "metadata": {},
   "source": [
    "도착 예정 시간(ETA, Estimated Time of Arrival) 예측은 교통 및 물류 분야에서 중요한 과제이다. 이 작업의 목표는 차량이 출발지에서 목적지까지 이동하는 데 걸리는 시간을 정확하게 예측하는 것이다. 이 예측은 이동 시간에 영향을 미칠 수 있는 다양한 요인들을 기반으로 한다.\n",
    "\n",
    "ETA 예측 문제는 다음과 같이 공식적으로 정의할 수 있다:\n",
    "\n",
    "입력 특성 집합 $X = \\{x_1, x_2, ..., x_n\\}$이 주어졌을 때, 각 $x_i$는 다음과 같은 관련 요인을 나타낸다:\n",
    "\n",
    "- 출발지와 목적지의 위도 및 경도 좌표\n",
    "- 출발지와 목적지 사이의 직선 거리\n",
    "- 출발 시간\n",
    "- 요일\n",
    "- 공휴일 여부\n",
    "- 출발지와 목적지의 행정 구역\n",
    "\n",
    "목표는 이러한 입력 특성을 사용하여 예상 도착 시간 $y$를 예측하는 함수 $f$를 학습하는 것이다:\n",
    "\n",
    "$y = f(X)$\n",
    "\n",
    "여기서 $y$는 분 단위의 예상 이동 시간을 나타낸다."
   ]
  },
  {
   "cell_type": "code",
   "execution_count": 1,
   "metadata": {},
   "outputs": [
    {
     "data": {
      "text/plain": [
       "5"
      ]
     },
     "execution_count": 1,
     "metadata": {},
     "output_type": "execute_result"
    }
   ],
   "source": [
    "5"
   ]
  },
  {
   "cell_type": "markdown",
   "metadata": {},
   "source": [
    "## 3.2 Machine Learning Models"
   ]
  },
  {
   "cell_type": "markdown",
   "metadata": {},
   "source": [
    "## 3.3 Experiment"
   ]
  },
  {
   "cell_type": "markdown",
   "metadata": {},
   "source": [
    "### 3.2.1 O-D based Travel Time Prediction"
   ]
  },
  {
   "cell_type": "markdown",
   "metadata": {},
   "source": [
    "### 3.2.2 Link-based Travel Time Prediction"
   ]
  },
  {
   "cell_type": "markdown",
   "metadata": {},
   "source": []
  }
 ],
 "metadata": {
  "kernelspec": {
   "display_name": "base",
   "language": "python",
   "name": "python3"
  },
  "language_info": {
   "codemirror_mode": {
    "name": "ipython",
    "version": 3
   },
   "file_extension": ".py",
   "mimetype": "text/x-python",
   "name": "python",
   "nbconvert_exporter": "python",
   "pygments_lexer": "ipython3",
   "version": "3.12.2"
  }
 },
 "nbformat": 4,
 "nbformat_minor": 2
}
