{
 "cells": [
  {
   "cell_type": "markdown",
   "metadata": {},
   "source": [
    "#  4. Construct Digital Twin Simulation for Operating Mobility Systems"
   ]
  },
  {
   "cell_type": "markdown",
   "metadata": {},
   "source": [
    "### 4.1 간단한 예제로 알아보는 모빌리티 디지털 트윈 시뮬레이션 구현\n",
    "\n",
    "- 상세한 시뮬레이션의 각 구성요소를 탐색하기 전에 대략적으로 어떻게 시뮬레이션이 구동되고 결과가 도출되는지 실습"
   ]
  },
  {
   "cell_type": "markdown",
   "metadata": {},
   "source": [
    "#### 4.1.1 가상의 통행데이터 생성"
   ]
  },
  {
   "cell_type": "code",
   "execution_count": 1,
   "metadata": {},
   "outputs": [],
   "source": [
    "import numpy as np\n",
    "import itertools\n",
    "import requests\n",
    "import polyline\n",
    "import json\n",
    "import os\n",
    "\n",
    "import random as rd\n",
    "import pandas as pd\n",
    "\n",
    "from shapely.geometry import Point\n",
    "\n",
    "from requests.adapters import HTTPAdapter\n",
    "from requests.packages.urllib3.util.retry import Retry\n",
    "\n",
    "import warnings \n",
    "\n",
    "warnings.filterwarnings('ignore')"
   ]
  },
  {
   "cell_type": "markdown",
   "metadata": {},
   "source": [
    "##### [1] 필수 함수 정의"
   ]
  },
  {
   "cell_type": "code",
   "execution_count": 2,
   "metadata": {},
   "outputs": [],
   "source": [
    "# 직선 거리 계산 함수\n",
    "def calculate_straight_distance(lat1, lon1, lat2, lon2):\n",
    "    # 지구 반경 (킬로미터 단위)\n",
    "    km_constant = 3959* 1.609344\n",
    "    # 위도와 경도를 라디안으로 변환\n",
    "    lat1, lon1, lat2, lon2 = map(np.deg2rad, [lat1, lon1, lat2, lon2])\n",
    "    # 위도 및 경도 차이 계산\n",
    "    dlat = lat2 - lat1 \n",
    "    dlon = lon2 - lon1\n",
    "    # Haversine 공식 계산\n",
    "    a = np.sin(dlat/2)**2 + np.cos(lat1) * np.cos(lat2) * np.sin(dlon/2)**2\n",
    "    c = 2 * np.arcsin(np.sqrt(a)) \n",
    "    # 거리 계산 (킬로미터 단위)\n",
    "    km = km_constant * c\n",
    "    \n",
    "    return km"
   ]
  },
  {
   "cell_type": "code",
   "execution_count": 3,
   "metadata": {},
   "outputs": [],
   "source": [
    "# osrm 기반의 Route 생성 함수\n",
    "# 입력으로 받은 출발지와 목적지 좌표를 이용하여 경로 정보를 가져오는 함수\n",
    "def get_res(point):\n",
    "\n",
    "   status = 'defined'\n",
    "\n",
    "   # 요청을 재시도할 수 있도록 세션 객체 생성 및 설정\n",
    "   session = requests.Session()\n",
    "   retry = Retry(connect=3, backoff_factor=0.5)\n",
    "   adapter = HTTPAdapter(max_retries=retry)\n",
    "   session.mount('http://', adapter)\n",
    "   session.mount('https://', adapter)\n",
    "\n",
    "   #### url 생성 코드\n",
    "   # 전체 경로 정보를 요청\n",
    "   overview = '?overview=full'\n",
    "   # lon, lat, lon, lat 형식의 출발지 목적지 좌표\n",
    "   loc = f\"{point[0]},{point[1]};{point[2]},{point[3]}\"\n",
    "   # 보행경로 url\n",
    "   url = 'http://router.project-osrm.org/route/v1/car/'\n",
    "   # 경로 정보 요청\n",
    "   r = session.get(url + loc + overview) \n",
    "   \n",
    "   # 만약 경로가 안뜰 때 대체 결과 생성\n",
    "   if r.status_code!= 200:\n",
    "      \n",
    "      status = 'undefined'\n",
    "      \n",
    "       # 직선 거리 계산\n",
    "      distance = calculate_straight_distance(point[1], point[0], point[3], point[2]) * 1000\n",
    "      \n",
    "      # 경로 정보 생성 (출발지와 목적지 좌표만 포함)\n",
    "      route = [[point[0], point[1]], [point[2], point[3]]]\n",
    "\n",
    "      # 소요 시간 및 타임스탬프 계산 (가정: 보행 속도 10km/h)\n",
    "      speed_km = 10#km\n",
    "      speed = (speed_km * 1000/60)      \n",
    "      duration = distance/speed\n",
    "      \n",
    "      timestamp = [0, duration]\n",
    "\n",
    "      result = {'route': route, 'timestamp': timestamp, 'duration': duration, 'distance' : distance}\n",
    "   \n",
    "      return result, status\n",
    "   \n",
    "   # 경로 정보를 성공적으로 가져온 경우, JSON 응답을 반환\n",
    "   res = r.json()   \n",
    "   return res, status"
   ]
  },
  {
   "cell_type": "code",
   "execution_count": 4,
   "metadata": {},
   "outputs": [],
   "source": [
    "# 경로를 가는데 걸리는 시간과 거리 추출 함수\n",
    "def extract_duration_distance(res):\n",
    "   # get_res함수에서 추출된 데이터에서 시간과 거리 뽑기\n",
    "   \n",
    "   duration = res['routes'][0]['duration']/(60)  # 분 단위로 변환\n",
    "   distance = res['routes'][0]['distance']\n",
    "   \n",
    "   return duration, distance\n",
    "\n",
    "# 경로 추출 함수\n",
    "def extract_route(res):\n",
    "   \n",
    "    # get_res함수에서 추출된 데이터에서 경로 뽑기\n",
    "    # 경로가 인코딩 되어 있기 때문에 아래 함수를 써서 디코딩해주어야지 위경도로 이루어진 경로가 나옴\n",
    "    route = polyline.decode(res['routes'][0]['geometry'])\n",
    "    \n",
    "    # 사용할 형식에 맞춰 위경도 좌표의 위치를 바꿔주는 것\n",
    "    route = list(map(lambda data: [data[1],data[0]] ,route))\n",
    "    \n",
    "    return route"
   ]
  },
  {
   "cell_type": "code",
   "execution_count": 5,
   "metadata": {},
   "outputs": [],
   "source": [
    "# 총 걸리는 시간을 경로의 거리 기준으로 쪼개주는 함수\n",
    "def extract_timestamp(route, duration):\n",
    "    \n",
    "    # 리스트를 numpy이 배열로 변경\n",
    "    rt = np.array(route)\n",
    "    # 리스트를 수평 기준으로 합치기\n",
    "    rt = np.hstack([rt[:-1,:], rt[1:,:]])\n",
    "    # 각각 직선거리 추출(리스트 형태)\n",
    "    per = calculate_straight_distance(rt[:,1], rt[:,0], rt[:,3], rt[:,2])\n",
    "    # 각각의 직선거리를 전체 직선거리의 합으로 나누기\n",
    "    per = per / np.sum(per)\n",
    "\n",
    "    # 계산된 비율을 기반으로 각 지점 도착 예상 시간 계산\n",
    "    timestamp = per * duration\n",
    "    timestamp = np.hstack([np.array([0]),timestamp])\n",
    "    timestamp = list(itertools.accumulate(timestamp)) \n",
    "    \n",
    "    return timestamp"
   ]
  },
  {
   "cell_type": "code",
   "execution_count": 6,
   "metadata": {},
   "outputs": [],
   "source": [
    "# 모든 함수를 한번에 실행하는 코드(trips 데이터의 형태로 저장)\n",
    "def osrm_routing_machine(O, D):\n",
    "\n",
    "   # osrm 데이터 생성\n",
    "   osrm_base, status = get_res([O.x, O.y, D.x, D.y])\n",
    "   \n",
    "   # osrm 데이터가 생성 됬으면 진행\n",
    "   if status == 'defined':\n",
    "      # 거리 및 걸리는 시간 추출\n",
    "      duration, distance = extract_duration_distance(osrm_base)\n",
    "      # 경로 추출\n",
    "      route = extract_route(osrm_base)\n",
    "      # timestamp 생성\n",
    "      timestamp = extract_timestamp(route, duration)\n",
    "      # 결과 저장\n",
    "      result = {'route': route, 'timestamp': timestamp, 'duration': duration, 'distance' : distance}\n",
    "      \n",
    "      return result\n",
    "   else: \n",
    "      return osrm_base\n",
    "   \n",
    "# OD_data 한쌍일 때 osrm_routing_machine작동함수\n",
    "def osrm_routing_machine_multiprocess(OD):\n",
    "   O, D = OD\n",
    "   result = osrm_routing_machine(O, D)\n",
    "   return result\n",
    "\n",
    "# OD_data 데이터가 리스트쌍 일때의 osrm_routing_machine 작동함수\n",
    "def osrm_routing_machine_multiprocess_all(OD_data):\n",
    "    results = list(map(osrm_routing_machine_multiprocess, OD_data))\n",
    "    return results"
   ]
  },
  {
   "cell_type": "markdown",
   "metadata": {},
   "source": [
    "##### [2] OD 데이터 생성"
   ]
  },
  {
   "cell_type": "code",
   "execution_count": 7,
   "metadata": {},
   "outputs": [],
   "source": [
    "def get_OD_data(point, num=10):\n",
    "    \"\"\"\n",
    "    Generate random origin-destination pairs from given points\n",
    "    \n",
    "    Args:\n",
    "        point (dict): Dictionary containing points data\n",
    "        num (int): Number of OD pairs to generate\n",
    "    \n",
    "    Returns:\n",
    "        list: List of OD pairs as [Origin Point, Destination Point]\n",
    "    \"\"\"\n",
    "    OD_data = []\n",
    "    \n",
    "    # Convert dictionary keys to list for random sampling\n",
    "    point_keys = list(point.keys())\n",
    "    \n",
    "    # Generate num random pairs of coordinates\n",
    "    for _ in range(num):\n",
    "        # Generate random pair using the point keys\n",
    "        neighborhood1, neighborhood2 = rd.sample(point_keys, 2)\n",
    "        # Get start and end points from the dictionary\n",
    "        start_point = point[neighborhood1]\n",
    "        end_point = point[neighborhood2]\n",
    "        \n",
    "        # Convert to shapely Point objects\n",
    "        O = Point(start_point)\n",
    "        D = Point(end_point)\n",
    "        # Add origin-destination pair to list\n",
    "        OD_data.append([O, D])\n",
    "    \n",
    "    return OD_data"
   ]
  },
  {
   "cell_type": "code",
   "execution_count": 8,
   "metadata": {},
   "outputs": [],
   "source": [
    "# 데이터 좌표\n",
    "point = {\n",
    "    \"가천대_반도체대학\" : [127.127384 , 37.450910],\n",
    "    \"가천대_일반대학원\" : [127.130112 , 37.452589],\n",
    "    \"가천대_교육대학원\" : [127.131698 , 37.452066],\n",
    "    \"가천대_학생회관\" : [127.134042 , 37.453336],\n",
    "    \"가천대_ai_공학관\" : [127.133374 , 37.455009],\n",
    "}\n"
   ]
  },
  {
   "cell_type": "code",
   "execution_count": 10,
   "metadata": {},
   "outputs": [
    {
     "data": {
      "text/plain": [
       "[[<POINT (127.133 37.455)>, <POINT (127.13 37.453)>],\n",
       " [<POINT (127.127 37.451)>, <POINT (127.133 37.455)>],\n",
       " [<POINT (127.133 37.455)>, <POINT (127.127 37.451)>],\n",
       " [<POINT (127.13 37.453)>, <POINT (127.132 37.452)>],\n",
       " [<POINT (127.127 37.451)>, <POINT (127.13 37.453)>],\n",
       " [<POINT (127.127 37.451)>, <POINT (127.132 37.452)>],\n",
       " [<POINT (127.133 37.455)>, <POINT (127.132 37.452)>],\n",
       " [<POINT (127.134 37.453)>, <POINT (127.133 37.455)>],\n",
       " [<POINT (127.132 37.452)>, <POINT (127.13 37.453)>],\n",
       " [<POINT (127.127 37.451)>, <POINT (127.134 37.453)>]]"
      ]
     },
     "execution_count": 10,
     "metadata": {},
     "output_type": "execute_result"
    }
   ],
   "source": [
    "# O는 출발지 D는 도착지로 생각하면 편함\n",
    "OD_data = get_OD_data(point, 10)\n",
    "OD_data"
   ]
  },
  {
   "cell_type": "markdown",
   "metadata": {},
   "source": [
    "##### [3] 통행 데이터 생성\n",
    "\n",
    "- 출발지, 목적지가 정해졌을 때 그 사이의 경로 및 시간을 생성"
   ]
  },
  {
   "cell_type": "code",
   "execution_count": 11,
   "metadata": {},
   "outputs": [],
   "source": [
    "# OD, DO 포인트에 대해서 각각의 trips데이터를 생성\n",
    "OD_results = osrm_routing_machine_multiprocess_all(OD_data)"
   ]
  },
  {
   "cell_type": "code",
   "execution_count": 12,
   "metadata": {},
   "outputs": [
    {
     "data": {
      "text/plain": [
       "([[127.13322, 37.455],\n",
       "  [127.13325, 37.45481],\n",
       "  [127.13336, 37.45455],\n",
       "  [127.13344, 37.45439],\n",
       "  [127.13357, 37.45427],\n",
       "  [127.13369, 37.45418],\n",
       "  [127.13376, 37.45407],\n",
       "  [127.13379, 37.45387],\n",
       "  [127.13383, 37.45373],\n",
       "  [127.13402, 37.45345],\n",
       "  [127.13391, 37.45337],\n",
       "  [127.13375, 37.45324],\n",
       "  [127.13357, 37.45305],\n",
       "  [127.13337, 37.45297],\n",
       "  [127.1332, 37.45291],\n",
       "  [127.13312, 37.45287],\n",
       "  [127.13217, 37.45251],\n",
       "  [127.13208, 37.45247],\n",
       "  [127.13203, 37.45245],\n",
       "  [127.13198, 37.45243],\n",
       "  [127.13192, 37.45239],\n",
       "  [127.13187, 37.45236],\n",
       "  [127.13173, 37.45232],\n",
       "  [127.13161, 37.45229],\n",
       "  [127.13152, 37.45226],\n",
       "  [127.13144, 37.45222],\n",
       "  [127.13137, 37.45216],\n",
       "  [127.13131, 37.45206],\n",
       "  [127.13125, 37.45197],\n",
       "  [127.13121, 37.45196],\n",
       "  [127.13117, 37.45196],\n",
       "  [127.13113, 37.45196],\n",
       "  [127.1311, 37.45198],\n",
       "  [127.13106, 37.45202],\n",
       "  [127.13067, 37.45254],\n",
       "  [127.13063, 37.45258],\n",
       "  [127.1306, 37.45259],\n",
       "  [127.13057, 37.4526],\n",
       "  [127.13049, 37.45259],\n",
       "  [127.13035, 37.45255],\n",
       "  [127.13019, 37.45249],\n",
       "  [127.13017, 37.45249]],\n",
       " [0.0,\n",
       "  0.08625673329011561,\n",
       "  0.20980475465885023,\n",
       "  0.2873478608293212,\n",
       "  0.3586427730116585,\n",
       "  0.4176761762168017,\n",
       "  0.47319026461961566,\n",
       "  0.5639183512930076,\n",
       "  0.6285842785530925,\n",
       "  0.7718483174227123,\n",
       "  0.8251954861769311,\n",
       "  0.9070662104202198,\n",
       "  1.0141563680273777,\n",
       "  1.0942417668979854,\n",
       "  1.1607707221214758,\n",
       "  1.1945800050334765,\n",
       "  1.5710190263734087,\n",
       "  1.6079035516631597,\n",
       "  1.627925018800351,\n",
       "  1.6479464901976588,\n",
       "  1.6759647020938164,\n",
       "  1.6983771122306242,\n",
       "  1.751584913631952,\n",
       "  1.7965745474068893,\n",
       "  1.8314806414644664,\n",
       "  1.8652901347285322,\n",
       "  1.9021288383254098,\n",
       "  1.9520236174994605,\n",
       "  1.9978925218463117,\n",
       "  2.012889128446701,\n",
       "  2.027193218280315,\n",
       "  2.041497308113929,\n",
       "  2.0555064623845256,\n",
       "  2.078512261344859,\n",
       "  2.3511252256941804,\n",
       "  2.374130958069452,\n",
       "  2.385766281758977,\n",
       "  2.3974016041238593,\n",
       "  2.4263620132894768,\n",
       "  2.47956966983328,\n",
       "  2.54284800576947,\n",
       "  2.5499999999999994])"
      ]
     },
     "execution_count": 12,
     "metadata": {},
     "output_type": "execute_result"
    }
   ],
   "source": [
    "OD_results[0]['route'], OD_results[0]['timestamp']"
   ]
  },
  {
   "cell_type": "markdown",
   "metadata": {},
   "source": [
    "##### [4] timestamp 변경\n",
    "\n",
    "- 지금은 모든 통행이 0분에 시작함\n",
    "- 노이즈를 추가하여 통행시간을 조정"
   ]
  },
  {
   "cell_type": "code",
   "execution_count": 13,
   "metadata": {},
   "outputs": [
    {
     "data": {
      "text/plain": [
       "[3, 9, 10, 19, 20, 27, 31, 35, 40, 45]"
      ]
     },
     "execution_count": 13,
     "metadata": {},
     "output_type": "execute_result"
    }
   ],
   "source": [
    "# 원하는 범위에서 랜덤함 숫자를 원하는 만큼 뽑아내는 함수\n",
    "def sample_interval(start, end, count, num_samples):\n",
    "    # 시작과 끝을 count만 큼 나눔(최종 : 나눈 만큼의 숫자가 생성됨)\n",
    "    interval_size = (end - start) / count\n",
    "    samples = []\n",
    "    # 랜덤 숫자 생성\n",
    "    for i in range(count):\n",
    "        interval_start = start + interval_size * i\n",
    "        interval_end = interval_start + interval_size\n",
    "        samples.extend(rd.sample(range(int(interval_start), int(interval_end)), num_samples))\n",
    "    return samples\n",
    "\n",
    "### ex.\n",
    "# 시작 시간과 출발 시간 사이의 랜덤 숫자 생성\n",
    "# 초 기준\n",
    "sample_interval(0, 50, 10, 1)"
   ]
  },
  {
   "cell_type": "code",
   "execution_count": 30,
   "metadata": {},
   "outputs": [],
   "source": [
    "# 시각화 할때 겹치지 않기 하기 위해서 임의의 시간을 더해주는 함수\n",
    "# 시간 범위를 정하고 싶으면 아래의  sample_interval의 앞의 두개의 인풋값 바꿔주기!\n",
    "def timestamp_change(OD_results) :\n",
    "    random_numbers = sample_interval(0, 50, len(OD_results), 1)\n",
    "    for i in range(0, len(OD_results)) :\n",
    "        # (i+1)*3을 더해주는 이유는 출발 시간이 겹치지 않기 하기 위해서\n",
    "        OD_results[i]['timestamp'] = list(np.array(OD_results[i]['timestamp']) + random_numbers[i])\n",
    "        \n",
    "    return OD_results"
   ]
  },
  {
   "cell_type": "code",
   "execution_count": 31,
   "metadata": {},
   "outputs": [],
   "source": [
    "# timestamp 변경\n",
    "OD_results = timestamp_change(OD_results)"
   ]
  },
  {
   "cell_type": "code",
   "execution_count": 34,
   "metadata": {},
   "outputs": [
    {
     "data": {
      "text/plain": [
       "(0.0, 48.0)"
      ]
     },
     "execution_count": 34,
     "metadata": {},
     "output_type": "execute_result"
    }
   ],
   "source": [
    "# 시작 시간이 잘 변경 되었나 확인\n",
    "OD_results[0]['timestamp'][0], OD_results[-1]['timestamp'][0]"
   ]
  },
  {
   "cell_type": "markdown",
   "metadata": {},
   "source": [
    "##### [5] 데이터 저장"
   ]
  },
  {
   "cell_type": "code",
   "execution_count": 35,
   "metadata": {},
   "outputs": [],
   "source": [
    "# 데이터 저장\n",
    "path = '../simulation_base/simulation/public/data/'\n",
    "\n",
    "with open(os.path.join(path + 'trips.json'), 'w', encoding='utf-8') as file:\n",
    "    json.dump(OD_results, file)"
   ]
  },
  {
   "cell_type": "markdown",
   "metadata": {},
   "source": [
    "### 4.2 시스템 아키텍처와 설정\n",
    "\n",
    "##### 목표: React 애플리케이션 설정 및 axios, mapbox-gl 같은 필수 라이브러리 설명\n",
    "- 구성:\n",
    "    - GitHub에 호스팅된 데이터를 디지털 트윈의 데이터 소스로 사용\n",
    "\n"
   ]
  },
  {
   "cell_type": "markdown",
   "metadata": {},
   "source": [
    "##### 주요 파일\n",
    "- `Apps.js`\n",
    "    - 애플리케이션의 핵심 구조와 라우트를 정의하는 메인 컴포넌트\n",
    "    - 페이지간의 연결 및 페이지 렌더링\n",
    "    - 데이터를 가져오거나 상태를 관리\n",
    "    \n",
    "- `Trips.js`\n",
    "    - 시뮬레이션 프로젝트에서 경로(trips)나 이동 데이터를 관리하고 시각화하는 컴포넌트.\n",
    "    - 시뮬레이션의 환경 설정(지도, 건물 재질 등)\n",
    "    - 시간 표시,DeckGL과 Map을 이용한 지도 및 경로 시각화등 시뮬레이션의 시각 요소를 다룸\n",
    "    - App.js, trips.js는 하나로 합칠 수 있음 - 편의를 위해 나누어서 사용\n",
    "\n",
    "- `index.js`\n",
    "    -  React 애플리케이션의 진입점 역할을 하며, React 애플리케이션을 HTML 파일에 연결하고 애플리케이션이 처음으로 실행되는 환경을 설정하는 데 사용됨\n",
    "    - serviceWorker를 사용하여 오프라인 기능을 추가하고 빠르게 로드 할 수 있게 해줌\n",
    "\n",
    "##### 라이브러리\n",
    "- `Axios`\n",
    "    - Axios는 HTTP 요청을 보낼 수 있는 Promise 기반 라이브러리\n",
    "    - React 애플리케이션에서 서버와 데이터를 주고받을 때 자주 사용됨\n",
    "\n",
    "- `DeckGL`\n",
    "    - Deck.gl의 기본 컴포넌트로, 이 컴포넌트를 통해 다양한 레이어와 효과를 적용하여 데이터를 시각화함\n",
    "    - 맵 스타일, 초기 뷰 설정, 레이어 등 시각화의 기본 요소를 담고 있음\n",
    "    - 주로 지도 위에 경로, 포인트, 클러스터 등 다양한 시각적 요소를 표현할 때 사용함\n",
    "\n",
    "- `ReactDOM`\n",
    "    - React 컴포넌트를 DOM에 렌더링할 때 사용하는 라이브러리\n",
    "    - ReactDOM은 브라우저의 DOM과 직접 상호작용하는 기능을 제공하여, React 애플리케이션을 HTML 페이지에 연결하고 보여줄 수 있게 해줌\n",
    "    \n",
    "- `Service Worker`\n",
    "    - Service Worker는 브라우저와 네트워크 사이에서 프록시 역할을 하는 스크립트로, 웹 애플리케이션에 오프라인 기능과 푸시 알림, 백그라운드 데이터 동기화 같은 기능을 추가할 수 있게 해줌\n",
    "    - 웹 애플리케이션이 더 빠르고 안정적으로 작동하도록 돕기 때문에, 특히 네트워크 상태가 불안정하거나 오프라인인 상황에서 유용함"
   ]
  },
  {
   "cell_type": "markdown",
   "metadata": {},
   "source": [
    "#### 4.2.1 Prerequistes\n",
    "이 절에서는 디지털 트윈 시뮬레이션을 위한 React 애플리케이션의 구조와 설정 방법을 다룬다. 디지털 트윈 시뮬레이션 시스템을 구축하기 위해 필요한 라이브러리 설치, 주요 파일의 역할, 데이터 소스 구성 방식을 하나씩 설명한다. \n",
    "\n",
    "```{note}\n",
    "** 왜 시뮬레이션의 구현을 React에서 했는가?**\n",
    "\n",
    "React는 컴포넌트 기반 구조와 가상 DOM(Virtual DOM)을 통해 빠른 UI 업데이트를 지원하므로, **대화형 시뮬레이션을 구현**하기에 적합하다. 시뮬레이션 데이터를 시간에 따라 업데이트하고, 그에 따라 화면이 실시간으로 반응하는 것이 중요한 디지털 트윈 시스템에서는 특히 유용하다.\n",
    "\n",
    "예를 들어, 서울의 강남역 부근에서 평일 저녁 6시부터 7시 사이의 택시 수요를 시뮬레이션한다고 가정해보자. 과거 데이터를 분석해 이 시간대에 평균적으로 시간당 30명의 승객이 택시를 잡는다는 결과를 얻었습니다. 이러한 택시 수요는 **포아송 분포**를 따르는 경향이 있으며, 평균(λ)을 30으로 설정하면 특정 시간에 택시를 찾는 승객 수를 예측할 수 있다.\n",
    "\n",
    "React의 컴포넌트 구조를 활용하면 이러한 시뮬레이션 데이터를 관리하고, 그에 따라 UI가 동적으로 변하게 할 수 있다. 이를 통해 사용자는 특정 시간대의 교통량이나 택시 수요 변화를 직관적으로 시각화하고 분석할 수 있다. 또한, React는 광범위한 라이브러리와 생태계를 제공하여, 지도 렌더링(mapbox-gl)이나 시뮬레이션 애니메이션(deck.gl)과 같은 추가적인 기능을 쉽게 통합할 수 있다.\n",
    "```\n",
    "\n",
    "\n",
    "React 애플리케이션을 실행하려면 Node.js가 필요하다. Node.js는 JavaScript 런타임 환경으로, 서버 측 코드와 웹 애플리케이션 빌드에 널리 사용된다.  \n",
    "Node.js 설치: Node.js 공식 사이트에서 운영체제에 맞는 설치 파일을 다운로드한다.  \n",
    "설치가 완료되면 터미널창에서 다음 명령어를 통해 설치가 잘 되었는지 확인할 수 있다.  \n",
    "\n",
    "```bash\n",
    "node -v\n",
    "npm -v\n",
    "```\n",
    "\n",
    "React에 대한 기본 개념 설명\n",
    "\n",
    "- React는 컴포넌트 기반의 사용자 인터페이스 라이브러리로, 애플리케이션을 작은 컴포넌트로 분리하여 모듈화하고 재사용할 수 있게 해줍니다.\n",
    "- React의 주요 목적은 복잡한 사용자 인터페이스를 효율적으로 관리하는 것이며, 상태 변화에 따라 인터페이스를 자동으로 갱신해 줍니다. 이러한 구조 덕분에 복잡한 시뮬레이션 데이터와 인터랙션이 많은 디지털 트윈 애플리케이션을 개발할 때 매우 유용합니다.\n",
    "\n",
    "- React는 가상 DOM(Virtual DOM)을 사용해 효율성을 높입니다. 일반 DOM과 달리 가상 DOM은 메모리상에서 변경 사항을 미리 계산한 후 실제 DOM에 반영합니다. 이는 빠른 업데이트와 렌더링을 가능하게 해, 실시간 데이터 시각화와 상호작용이 필요한 디지털 트윈 시뮬레이션에서 중요한 역할을 합니다."
   ]
  },
  {
   "cell_type": "markdown",
   "metadata": {},
   "source": [
    "#### 4.2.2 React 애플리케이션 설정\n",
    "\n",
    "React 애플리케이션은 보통 Create React App을 사용해 간편하게 시작할 수 있다. Create React App은 React 프로젝트의 기본 구조를 만들어주며, 프로젝트를 개발, 테스트, 빌드, 배포하는 데 필요한 다양한 설정을 포함한다.\n",
    "\n",
    "```bash\n",
    "npx create-react-app my-simulation-app\n",
    "```\n",
    "\n",
    "위 명령어를 실행하면 my-simulation-app이라는 디렉터리에 기본 React 파일 구조가 생성된다. 이 구조는 다음과 같이 구성된다. \n",
    "\n",
    "- public/: 공개 폴더로, index.html 파일을 포함하여 웹 애플리케이션의 기본 HTML 템플릿을 제공합니다.\n",
    "\n",
    "- src/: React 컴포넌트, 스타일 시트, 애플리케이션 로직 등이 포함된 폴더로, 모든 개발이 이곳에서 이루어집니다.\n",
    "\n",
    "- package.json: 애플리케이션의 메타데이터와 의존성을 정의하는 파일입니다."
   ]
  },
  {
   "cell_type": "markdown",
   "metadata": {},
   "source": [
    "### 4.3 데이터 처리 및 컴포넌트 설계\n",
    "##### 목표: 디지털 트윈 시뮬레이션에서 데이터 획득 및 관리 방식을 설명"
   ]
  },
  {
   "cell_type": "markdown",
   "metadata": {},
   "source": [
    "- 시뮬레이션 데이터를 가져오기 위한 fetchData 함수\n",
    "    - fetchData 함수는 서버나 외부 저장소에 있는 시뮬레이션 데이터를 가져와 컴포넌트에서 사용할 수 있게 하는 역할을 합니다\n",
    "    \n",
    "    - 이 함수는 비동기적으로 JSON 파일을 로드하고, 이를 특정 컴포넌트의 상태(state)로 설정해 렌더링을 위한 데이터로 사용합니다.\n",
    "    \n",
    "    - 예를 들어, 택시 수요 시뮬레이션 데이터를 GitHub에서 가져온다고 가정할 때, fetchData 함수는 이 데이터를 앱 내의 여러 컴포넌트에 공유하고 업데이트하는 데 필요합니다.\n",
    "\n",
    "- 함수 예시\n",
    "\n",
    "```js\n",
    "\n",
    "    const fetchData = (fileName) => {\n",
    "      const baseURL = process.env.NODE_ENV === \"production\"\n",
    "        ? `https://raw.githubusercontent.com/`깃허브_이름`/`repository_이름`/main/uam/src/data/` # 깃허브에서의 경로 #\n",
    "        : `${process.env.PUBLIC_URL}/data/`; # test할 때 public에서 데이터를 가져옴 #\n",
    "      \n",
    "      return axios.get(`${baseURL}${fileName}.json`).then((r) => r.data);\n",
    "    };\n",
    "\n",
    "```\n"
   ]
  },
  {
   "cell_type": "markdown",
   "metadata": {},
   "source": [
    "- 여행 데이터(JSON)의 구조와 역할\n",
    "    - 여행 데이터는 시뮬레이션의 핵심 정보로, 각 이동에 대한 세부 사항을 포함합니다.\n",
    "    \n",
    "    - 예를 들어, 각 여행의 시작 및 종료 위치, 경로 좌표, 시간, 색상 등 시뮬레이션에서 필요한 모든 요소가 이 JSON 데이터에 포함됩니다.\n",
    "\n",
    "\n",
    "- ex\n",
    "```json\n",
    "    [  \n",
    "      {\n",
    "        \"id\": \"trip1\", ## 데이터의 구분 명칭\n",
    "        \"route\": [[127.1, 37.5], [127.2, 37.6], ...], ## 한 통행에 대한 경로\n",
    "        \"timestamp\": [0, 1, 2, 3, ...], ## route에 따른 걸리는 시간\n",
    "        \"color\": [255, 0, 0], ## 시각화 할 때 사용할 색상\n",
    "        ...\n",
    "      },\n",
    "      ...\n",
    "    ]\n",
    "```\n",
    "    "
   ]
  },
  {
   "cell_type": "markdown",
   "metadata": {},
   "source": [
    "- 여행 데이터를 표시하고 업데이트하는 Trip 컴포넌트의 기능 설명"
   ]
  },
  {
   "cell_type": "markdown",
   "metadata": {},
   "source": [
    "### 4.4 시뮬레이션 데이터 시각화\n",
    "\n",
    "##### 목표: mapbox-gl을 사용해 지도 기반 데이터를 렌더링하는 방법 설명"
   ]
  },
  {
   "cell_type": "markdown",
   "metadata": {},
   "source": [
    "- Mapbox 설정과 지도 스타일링\n",
    "    - MAPBOX_TOKEN: Mapbox 서비스를 사용하기 위한 API 토큰이 필요합니다.\n",
    "    \n",
    "    - mapStyle : Mapbox의 지도 스타일 URL을 설정합니다.\n",
    "\n",
    "- 예시\n",
    "```js\n",
    "    const MAPBOX_TOKEN = `your_mapbox_token`;\n",
    "    const mapStyle = \"mapbox://styles/spear5306/ckzcz5m8w002814o2coz02sjc\";\n",
    "\n",
    "\n",
    "```\n"
   ]
  },
  {
   "cell_type": "markdown",
   "metadata": {},
   "source": [
    "- 지도 위에 여행 데이터를 통합하고 데이터 변경을 처리하는 상태 변수 설명\n",
    "    - TripsLayer: TripsLayer는 Deck.gl에서 제공하는 레이어로, 시간에 따라 경로가 변화하는 애니메이션을 구현할 수 있습니다.\n",
    "    \n",
    "    - 주요 속성:\n",
    "        - data: trip 데이터를 기반으로 경로와 시간을 설정합니다.\n",
    "        \n",
    "        - getPath: route 속성을 받아 각 여행 경로의 위치를 지정합니다.\n",
    "        - getTimestamps: timestamp 속성을 통해 경로가 시간에 따라 이동하도록 설정합니다.\n",
    "        - currentTime: time 상태를 기반으로 현재 시간에 맞는 위치를 표시합니다.\n",
    "\n",
    "- 함수 예시\n",
    "```js\n",
    "    const layers = [\n",
    "        new TripsLayer({  \n",
    "        id: 'trips',  // layer이름  \n",
    "        data: trip, // 데이터가 들어갈 자리\n",
    "        getPath: d => d.route, // 데이터에 구성된 경로의 key값\n",
    "        getTimestamps: d => d.timestamp, // 데이터에 구성된 timestamp의 key값\n",
    "        getColor: [255, 255, 0], // rgb로 색상지정 or trips에 color가 있다면 불러 올 수 있음\n",
    "        opacity: 1, // 투명도\n",
    "        widthMinPixels: 7, //선의 크기\n",
    "        rounded: true,\n",
    "        capRounded : true,\n",
    "        jointRounded : true,\n",
    "        trailLength : 0.5, // 선의 길이\n",
    "        currentTime: time, // 시간\n",
    "        shadowEnabled: false\n",
    "        }),\n",
    "    ];\n",
    "\n",
    "    \n",
    "```\n",
    "\n",
    "\n"
   ]
  },
  {
   "cell_type": "markdown",
   "metadata": {},
   "source": [
    "- 실시간 데이터 시각화 및 업데이트 메커니즘\n",
    "    - 애니메이션 메커니즘: useCallback, useEffect를 상요해 time 상태를 주기적으로 업데이트합니다.\n",
    "    \n",
    "    - 이를 통해 여행 경로가 마치 실시간으로 이동하는 것처럼 보이게 합니다.\n",
    "\n",
    "\n",
    "- 함수 예시\n",
    "\n",
    "```js\n",
    "    const animate = useCallback(() => {\n",
    "        setTime((time) => returnAnimationTime(time));\n",
    "        animation.id = window.requestAnimationFrame(animate);\n",
    "    }, [animation]);\n",
    "\n",
    "    useEffect(() => {\n",
    "        animation.id = window.requestAnimationFrame(animate);\n",
    "        return () => window.cancelAnimationFrame(animation.id);\n",
    "    }, [animation, animate]);\n",
    "\n",
    "\n",
    "```"
   ]
  },
  {
   "cell_type": "markdown",
   "metadata": {
    "vscode": {
     "languageId": "plaintext"
    }
   },
   "source": [
    "### 4.5 인터랙티브 기능과 사용자 인터페이스\n",
    "\n",
    "##### 목표: 디지털 트윈 시뮬레이션의 인터랙티브 요소 설명\n",
    "\n"
   ]
  },
  {
   "cell_type": "markdown",
   "metadata": {},
   "source": [
    "- Splash를 사용한 로딩 상태 관리\n",
    "    - App.js 에서 데이터가 불러오기까지 로딩 생성\n",
    "    \n",
    "    - 데이터가 불러와지면 components에 있는 Trips.js의 지도 등이 표시됨\n",
    "\n",
    "- 함수 예시\n",
    "```js\n",
    "    return ( \n",
    "        <div className=\"container\">\n",
    "        {!isloaded && <Splash />}\n",
    "        {isloaded && (\n",
    "            <Trip trip={trip} />\n",
    "        )}\n",
    "        </div>\n",
    "    );\n",
    "\n",
    "\n",
    "```"
   ]
  },
  {
   "cell_type": "markdown",
   "metadata": {},
   "source": [
    "- Trip 컴포넌트 내 사용자 상호작용 설명\n",
    "    - 시간 슬라이더: Slider 컴포넌트는 시뮬레이션 시간(time 변수)을 조절할 수 있는 인터랙티브 도구입니다.\n",
    "    \n",
    "   - 사용자가 슬라이더를 조작할 때마다 SliderChange 함수가 실행되며, 사용자가 선택한 시간에 맞춰 time 상태가 업데이트됩니다. 이로 인해 지도 상의 시뮬레이션 경로가 해당 시간에 맞춰 이동합니다.\n",
    "\n",
    "```js\n",
    "      const SliderChange = (value) => {\n",
    "          const time = value.target.value;\n",
    "          setTime(time);\n",
    "        };\n",
    "        \n",
    "      <Slider\n",
    "              id=\"slider\"\n",
    "              value={time}\n",
    "              min={minTime}\n",
    "              max={maxTime}\n",
    "              onChange={SliderChange}\n",
    "              track=\"inverted\"\n",
    "            />\n",
    "\n",
    "\n",
    "```\n",
    "\n",
    "\n",
    "- 지도 탐색:\n",
    "    - DeckGL 컴포넌트의 controller 속성을 true로 설정하면, 사용자가 지도를 확대, 축소, 이동할 수 있는 기본적인 탐색 기능이 활성화됩니다.\n",
    "    \n",
    "```js\n",
    "      <DeckGL\n",
    "              effects={DEFAULT_THEME.effects} // 지도의 조명등을 다룸\n",
    "              initialViewState={INITIAL_VIEW_STATE} // 초기 지도 위치\n",
    "              controller={true} // 확대 및 축소 이동 가능\n",
    "              layers={layers} // 사용자가 만든 layers를 시각화\n",
    "            >\n",
    "\n",
    "            \n",
    "```\n"
   ]
  },
  {
   "cell_type": "markdown",
   "metadata": {},
   "source": [
    "### 4.6 테스트 및 배포\n",
    "\n",
    "##### 목표: 테스트 방법과 애플리케이션 배포 설명\n",
    "\n"
   ]
  },
  {
   "cell_type": "markdown",
   "metadata": {},
   "source": [
    "- 사용 가능한 테스트 프레임워크를 사용한 단위 테스트\n",
    "    - 자신이 만든 시뮬레이션 맨 처음 폴더로 가서 터미널에 ```npm start```를 입력\n",
    "    - ex : ```simulation / src / ...```  있다면 ```simulation```폴더에서 실행\n",
    "\n",
    "- npm run build를 사용한 프로덕션 빌드\n",
    "    - `npm start` 와 마찬가지로 같은 폴더에서 `npm run build` 실행\n",
    "\n",
    "\n",
    "- GitHub Pages에 페이지에 배포( 위와 같은 폴더에서 실행 )\n",
    "    - 이를 사용하면 `npm run build` 사용 X \n",
    "``` bash\n",
    "        npm add -D gh-pages\n",
    "        npm run deploy # 재전송\n",
    "        \n",
    "```\n",
    "\n",
    "\n",
    "-  package.json에 아래와 같은 명령어가 있는지 확인\n",
    "\n",
    "```json\n",
    "    \"scripts\": {\n",
    "        \"start\": \"react-scripts start\",\n",
    "        \"build\": \"react-scripts build\",\n",
    "        \"test\": \"react-scripts test\",\n",
    "        \"eject\": \"react-scripts eject\",\n",
    "        \"predeploy\": \"npm run build\",\n",
    "        \"deploy\": \"gh-pages -d build\"\n",
    "    },\n",
    "\n",
    "```"
   ]
  },
  {
   "cell_type": "markdown",
   "metadata": {},
   "source": [
    "### 4.7 사례 연구: 샘플 여행 시뮬레이션\n",
    "\n",
    "- 목표: 특정 여행 시나리오를 시뮬레이션하며 전체 워크플로우를 데모\n",
    "- 구성:\n",
    "    - 샘플 데이터(예: 여행 JSON) 설명\n",
    "    - GitHub에서 화면 시각화로 데이터 흐름에 대한 단계별 설명\n",
    "    - 디지털 트윈 결과의 해석 및 실제 적용 사례 설명"
   ]
  },
  {
   "cell_type": "markdown",
   "metadata": {},
   "source": [
    "### 4.8 Exercise"
   ]
  },
  {
   "cell_type": "markdown",
   "metadata": {},
   "source": [
    "#### 4.8.1 100개의 od를 뽑아서 시뮬레이션을 만들고 깃허브에 올려서 시뮬레이션 링크를 사이버캠퍼스에 제출"
   ]
  },
  {
   "cell_type": "code",
   "execution_count": null,
   "metadata": {},
   "outputs": [],
   "source": [
    "# 데이터 좌표\n",
    "point = {\n",
    "    \"중앙시장사거리\" : [127.131770, 37.440888],\n",
    "    \"숯골사거리\" : [127.142398 , 37.444055],\n",
    "    \"동부센트레빌2단지아파트\" : [127.129460 , 37.447540],\n",
    "    \"수진역\" : [127.140851 , 37.437443],\n",
    "    \"개별용달\" : [127.139292 , 37.446605],\n",
    "    \"버거킹\" : [127.150505 , 37.442235],\n",
    "}"
   ]
  },
  {
   "cell_type": "markdown",
   "metadata": {},
   "source": [
    "과제 할때 simulation-class/smulation/src/components/Trips.json에 들가면 maxTime 최소 350이상으로 설정하기"
   ]
  },
  {
   "cell_type": "markdown",
   "metadata": {},
   "source": [
    "longitude = 127.135840\n",
    "latitude = 37.442836\n",
    "로 설정하기"
   ]
  },
  {
   "cell_type": "markdown",
   "metadata": {},
   "source": [
    "- 과제 할때 위의 함수에서 아래와 같이 수정(안하면 시뮬레이션이 잘림)\n",
    "- random_numbers = sample_interval(0, 50, len(OD_results), 1) ->  random_numbers = sample_interval(0, 300, len(OD_results), 1)"
   ]
  }
 ],
 "metadata": {
  "kernelspec": {
   "display_name": "Python 3",
   "language": "python",
   "name": "python3"
  },
  "language_info": {
   "codemirror_mode": {
    "name": "ipython",
    "version": 3
   },
   "file_extension": ".py",
   "mimetype": "text/x-python",
   "name": "python",
   "nbconvert_exporter": "python",
   "pygments_lexer": "ipython3",
   "version": "3.8.10"
  }
 },
 "nbformat": 4,
 "nbformat_minor": 2
}
