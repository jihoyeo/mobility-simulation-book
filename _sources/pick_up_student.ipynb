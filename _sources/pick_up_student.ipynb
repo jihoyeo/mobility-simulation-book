{
 "cells": [
  {
   "cell_type": "markdown",
   "metadata": {},
   "source": [
    "랜덤 학생 뽑기"
   ]
  },
  {
   "cell_type": "code",
   "execution_count": 1,
   "metadata": {},
   "outputs": [
    {
     "name": "stdout",
     "output_type": "stream",
     "text": [
      "🎲 랜덤 학생 뽑기 시스템\n",
      "==============================\n",
      "🎯 선택된 학생: 김재경\n",
      "📊 현재 가중치: 0.500\n",
      "\n",
      "📈 현재 학생별 가중치:\n",
      "  최의진: 1.000\n",
      "  최승준: 1.000\n",
      "  장호성: 1.000\n",
      "  정일태: 1.000\n",
      "  김현우: 1.000\n",
      "  김재경: 0.500\n",
      "  김수빈: 1.000\n",
      "  권찬영: 1.000\n",
      "  민문정: 1.000\n",
      "  송명신: 1.000\n",
      "  유병욱: 1.000\n",
      "  윤서진: 1.000\n"
     ]
    }
   ],
   "source": [
    "import random\n",
    "\n",
    "# 학생 목록과 가중치\n",
    "students = {\n",
    "    \"최의진\": {\"weight\": 1.0},\n",
    "    \"최승준\": {\"weight\": 1.0},\n",
    "    \"장호성\": {\"weight\": 1.0},\n",
    "    \"정일태\": {\"weight\": 1.0},\n",
    "    \"김현우\": {\"weight\": 1.0},\n",
    "    \"김재경\": {\"weight\": 1.0},\n",
    "    \"김수빈\": {\"weight\": 1.0},\n",
    "    \"권찬영\": {\"weight\": 1.0},\n",
    "    \"민문정\": {\"weight\": 1.0},\n",
    "    \"송명신\": {\"weight\": 1.0},\n",
    "    \"유병욱\": {\"weight\": 1.0},\n",
    "    \"윤서진\": {\"weight\": 1.0}\n",
    "}\n",
    "\n",
    "def pick_random_student():\n",
    "    \"\"\"\n",
    "    가중치를 고려하여 랜덤으로 학생을 선택하는 함수\n",
    "    한번 뽑힌 학생은 가중치가 절반으로 줄어듭니다.\n",
    "    \"\"\"\n",
    "    # 가중치 기반 선택\n",
    "    names = list(students.keys())\n",
    "    weights = [students[name][\"weight\"] for name in names]\n",
    "    \n",
    "    # 가중치에 따라 랜덤 선택\n",
    "    selected_name = random.choices(names, weights=weights, k=1)[0]\n",
    "    \n",
    "    # 선택된 학생의 가중치를 절반으로 줄임\n",
    "    students[selected_name][\"weight\"] *= 0.5\n",
    "    \n",
    "    print(f\"🎯 선택된 학생: {selected_name}\")\n",
    "    print(f\"📊 현재 가중치: {students[selected_name]['weight']:.3f}\")\n",
    "    \n",
    "    return selected_name\n",
    "\n",
    "def show_current_weights():\n",
    "    \"\"\"현재 모든 학생들의 가중치를 보여주는 함수\"\"\"\n",
    "    print(\"\\n📈 현재 학생별 가중치:\")\n",
    "    for name, data in students.items():\n",
    "        print(f\"  {name}: {data['weight']:.3f}\")\n",
    "\n",
    "def reset_weights():\n",
    "    \"\"\"모든 학생의 가중치를 초기값(1.0)으로 리셋하는 함수\"\"\"\n",
    "    for name in students:\n",
    "        students[name][\"weight\"] = 1.0\n",
    "    print(\"🔄 모든 가중치가 초기화되었습니다!\")\n",
    "\n",
    "# 사용 예시\n",
    "print(\"🎲 랜덤 학생 뽑기 시스템\")\n",
    "print(\"=\" * 30)\n",
    "\n",
    "# 학생 뽑기\n",
    "pick_random_student()\n",
    "show_current_weights()\n"
   ]
  },
  {
   "cell_type": "code",
   "execution_count": 2,
   "metadata": {},
   "outputs": [
    {
     "name": "stdout",
     "output_type": "stream",
     "text": [
      "🎯 선택된 학생: 장호성\n",
      "📊 현재 가중치: 0.500\n"
     ]
    },
    {
     "data": {
      "text/plain": [
       "'장호성'"
      ]
     },
     "execution_count": 2,
     "metadata": {},
     "output_type": "execute_result"
    }
   ],
   "source": [
    "pick_random_student()"
   ]
  },
  {
   "cell_type": "code",
   "execution_count": null,
   "metadata": {},
   "outputs": [],
   "source": []
  }
 ],
 "metadata": {
  "kernelspec": {
   "display_name": "base",
   "language": "python",
   "name": "python3"
  },
  "language_info": {
   "codemirror_mode": {
    "name": "ipython",
    "version": 3
   },
   "file_extension": ".py",
   "mimetype": "text/x-python",
   "name": "python",
   "nbconvert_exporter": "python",
   "pygments_lexer": "ipython3",
   "version": "3.12.2"
  }
 },
 "nbformat": 4,
 "nbformat_minor": 2
}
