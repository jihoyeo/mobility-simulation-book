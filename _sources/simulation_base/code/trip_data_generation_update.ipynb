{
 "cells": [
  {
   "cell_type": "markdown",
   "metadata": {},
   "source": [
    "#### Simulation"
   ]
  },
  {
   "cell_type": "markdown",
   "metadata": {},
   "source": [
    "##### Import"
   ]
  },
  {
   "cell_type": "code",
   "execution_count": 18,
   "metadata": {},
   "outputs": [],
   "source": [
    "import numpy as np\n",
    "import itertools\n",
    "import requests\n",
    "import polyline\n",
    "import json\n",
    "import os\n",
    "import math\n",
    "\n",
    "import random as rd\n",
    "import pandas as pd\n",
    "\n",
    "from datetime import datetime, timedelta\n",
    "\n",
    "from shapely.geometry import Point\n",
    "\n",
    "from requests.adapters import HTTPAdapter\n",
    "from requests.packages.urllib3.util.retry import Retry\n",
    "\n",
    "import warnings \n",
    "\n",
    "warnings.filterwarnings('ignore')"
   ]
  },
  {
   "cell_type": "markdown",
   "metadata": {},
   "source": [
    "##### 좌표 거리 생성 함수"
   ]
  },
  {
   "cell_type": "code",
   "execution_count": 19,
   "metadata": {},
   "outputs": [],
   "source": [
    "# 직선 거리 게산 함수\n",
    "def calculate_straight_distance(lat1, lon1, lat2, lon2):\n",
    "    # 지구 반경 (킬로미터 단위)\n",
    "    km_constant = 3959* 1.609344\n",
    "    # 위도와 경도를 라디안으로 변환\n",
    "    lat1, lon1, lat2, lon2 = map(np.deg2rad, [lat1, lon1, lat2, lon2])\n",
    "    # 위도 및 경도 차이 계산\n",
    "    dlat = lat2 - lat1 \n",
    "    dlon = lon2 - lon1\n",
    "    # Haversine 공식 계산\n",
    "    a = np.sin(dlat/2)**2 + np.cos(lat1) * np.cos(lat2) * np.sin(dlon/2)**2\n",
    "    c = 2 * np.arcsin(np.sqrt(a)) \n",
    "    # 거리 계산 (킬로미터 단위)\n",
    "    km = km_constant * c\n",
    "    \n",
    "    return km"
   ]
  },
  {
   "cell_type": "markdown",
   "metadata": {},
   "source": [
    "##### trips 데이터 생성 함수"
   ]
  },
  {
   "cell_type": "code",
   "execution_count": 20,
   "metadata": {},
   "outputs": [],
   "source": [
    "#### osrm 페키지로 경로 추출\n",
    "# 입력으로 받은 출발지와 목적지 좌표를 이용하여 경로 정보를 가져오는 함수\n",
    "def get_res(point, mode = 'foot'):\n",
    "\n",
    "   status = 'defined'\n",
    "\n",
    "   # 요청을 재시도할 수 있도록 세션 객체 생성 및 설정\n",
    "   session = requests.Session()\n",
    "   retry = Retry(connect=3, backoff_factor=0.5)\n",
    "   adapter = HTTPAdapter(max_retries=retry)\n",
    "   session.mount('http://', adapter)\n",
    "   session.mount('https://', adapter)\n",
    "\n",
    "   #### url 생성 코드\n",
    "   # 전체 경로 정보를 요청\n",
    "   overview = '?overview=full'\n",
    "   # lon, lat, lon, lat 형식의 출발지 목적지 좌표\n",
    "   loc = f\"{point[0]},{point[1]};{point[2]},{point[3]}\"\n",
    "   # 보행경로 url\n",
    "   url = f'http://router.project-osrm.org/route/v1/{mode}/'\n",
    "   # 경로 정보 요청\n",
    "   r = session.get(url + loc + overview) \n",
    "   \n",
    "   # 만약 경로가 안뜰 때 대체 결과 생성\n",
    "   if r.status_code!= 200:\n",
    "      \n",
    "      status = 'undefined'\n",
    "      \n",
    "       # 직선 거리 계산\n",
    "      distance = calculate_straight_distance(point[1], point[0], point[3], point[2]) * 1000\n",
    "      \n",
    "      # 경로 정보 생성 (출발지와 목적지 좌표만 포함)\n",
    "      route = [[point[0], point[1]], [point[2], point[3]]]\n",
    "\n",
    "      # 소요 시간 및 타임스탬프 계산 (가정: 보행 속도 10km/h)\n",
    "      speed_km = 10#km\n",
    "      speed = (speed_km * 1000/60)      \n",
    "      duration = distance/speed\n",
    "      \n",
    "      timestamp = [0, duration]\n",
    "\n",
    "      result = {'route': route, 'timestamp': timestamp, 'duration': duration, 'distance' : distance}\n",
    "   \n",
    "      return result, status\n",
    "   \n",
    "   # 경로 정보를 성공적으로 가져온 경우, JSON 응답을 반환\n",
    "   res = r.json()   \n",
    "   return res, status"
   ]
  },
  {
   "cell_type": "code",
   "execution_count": 21,
   "metadata": {},
   "outputs": [],
   "source": [
    "# 경로를 가는데 걸리는 시간과 거리 추출 함수\n",
    "def extract_duration_distance(res, speed_kmh):\n",
    "   # get_res함수에서 추출된 데이터에서 시간과 거리 뽑기\n",
    "   \n",
    "   distance = res['routes'][0]['distance']\n",
    "   # duration = res['routes'][0]['duration']/(60)  # 분 단위로 변환\n",
    "   \n",
    "   # 속도 30km/h로 시간 계산\n",
    "   speed_kmh = speed_kmh  # km/h\n",
    "   speed_mps = speed_kmh * 1000 / 3600  # 속도를 m/s로 변환\n",
    "   duration = distance / speed_mps / 60  # 분 단위로 변환\n",
    "   \n",
    "   return duration, distance\n",
    "\n",
    "# 경로 추출 함수\n",
    "def extract_route(res):\n",
    "   \n",
    "    # get_res함수에서 추출된 데이터에서 경로 뽑기\n",
    "    # 경로가 인코딩 되어 있기 때문에 아래 함수를 써서 디코딩해주어야지 위경도로 이루어진 경로가 나옴\n",
    "    route = polyline.decode(res['routes'][0]['geometry'])\n",
    "    \n",
    "    # 사용할 형식에 맞춰 위경도 좌표의 위치를 바꿔주는 것\n",
    "    route = list(map(lambda data: [data[1],data[0]] ,route))\n",
    "    \n",
    "    return route"
   ]
  },
  {
   "cell_type": "code",
   "execution_count": 22,
   "metadata": {},
   "outputs": [],
   "source": [
    "# 총 걸리는 시간을 경로의 거리 기준으로 쪼개주는 함수\n",
    "def extract_timestamp(route, duration):\n",
    "    \n",
    "    # 리스트를 numpy이 배열로 변경\n",
    "    rt = np.array(route)\n",
    "    # 리스트를 수평 기준으로 합치기\n",
    "    rt = np.hstack([rt[:-1,:], rt[1:,:]])\n",
    "    # 각각 직선거리 추출(리스트 형태)\n",
    "    per = calculate_straight_distance(rt[:,1], rt[:,0], rt[:,3], rt[:,2])\n",
    "    # 각각의 직선거리를 전체 직선거리의 합으로 나누기\n",
    "    per = per / np.sum(per)\n",
    "\n",
    "    # 계산된 비율을 기반으로 각 지점 도착 예상 시간 계산\n",
    "    timestamp = per * duration\n",
    "    timestamp = np.hstack([np.array([0]),timestamp])\n",
    "    timestamp = list(itertools.accumulate(timestamp)) \n",
    "    \n",
    "    return timestamp"
   ]
  },
  {
   "cell_type": "code",
   "execution_count": 23,
   "metadata": {},
   "outputs": [],
   "source": [
    "from functools import partial\n",
    "\n",
    "# 모든 함수를 한번에 실행하는 코드(trips 데이터의 형태로 저장)\n",
    "def osrm_routing_machine(O, D, mode, speed_kmh):\n",
    "\n",
    "   # osrm 데이터 생성\n",
    "   osrm_base, status = get_res([O.x, O.y, D.x, D.y], mode)\n",
    "   \n",
    "   # osrm 데이터가 생성 됬으면 진행\n",
    "   if status == 'defined':\n",
    "      # 거리 및 걸리는 시간 추출\n",
    "      duration, distance = extract_duration_distance(osrm_base, speed_kmh)\n",
    "      # 경로 추출\n",
    "      route = extract_route(osrm_base)\n",
    "      # timestamp 생성\n",
    "      timestamp = extract_timestamp(route, duration)\n",
    "      # 결과 저장\n",
    "      result = {'route': route, 'timestamp': timestamp, 'duration': duration, 'distance' : distance}\n",
    "      \n",
    "      return result\n",
    "   else: \n",
    "      return osrm_base\n",
    "   \n",
    "# OD_data 한쌍일 때 osrm_routing_machine작동함수\n",
    "def osrm_routing_machine_multiprocess(OD, mode, speed_kmh):\n",
    "   O, D = OD\n",
    "   result = osrm_routing_machine(O, D, mode, speed_kmh)\n",
    "   return result\n",
    "# OD_data 데이터가 리스트쌍 일때의 osrm_routing_machine 작동함수\n",
    "def osrm_routing_machine_multiprocess_all(OD_data, mode, speed_kmh):\n",
    "    results = list(map(partial(osrm_routing_machine_multiprocess, mode = mode, speed_kmh=speed_kmh), OD_data))\n",
    "    return results"
   ]
  },
  {
   "cell_type": "markdown",
   "metadata": {},
   "source": [
    "##### od 데이터 생성"
   ]
  },
  {
   "cell_type": "code",
   "execution_count": 26,
   "metadata": {},
   "outputs": [],
   "source": [
    "# 랜덤한 쌍의 od 데이터(시작점과 도착점이 같이 않게 뜸)\n",
    "def get_OD_data(point, num = 10) :\n",
    "    OD_data = []\n",
    "\n",
    "    # 10개의 랜덤쌍 좌표 생성\n",
    "    for _ in range(num):\n",
    "        # 포인트 좌표의 key값을 이용하여 랜덤 쌍 생성\n",
    "        neighborhood1, neighborhood2 = rd.sample(list(point.keys()), 2)\n",
    "        # 랜덤쌍의 첫번째 값을 시작점으로 두번째 값을 도착점으로 설정\n",
    "        start_point = point[neighborhood1]\n",
    "        end_point = point[neighborhood2]\n",
    "        \n",
    "        # 시작점과 끝점을 포인트 좌표로 변경 \n",
    "        O = Point(start_point)\n",
    "        D = Point(end_point)\n",
    "        # 시작점과 출발점을 리스트로 만들어 리스트에 추가\n",
    "        OD_data.append([O, D])\n",
    "    \n",
    "    return OD_data\n",
    "\n",
    "# 초 단위 변환 함수\n",
    "def convert_to_minutes(time):\n",
    "    return time.hour * 60 + time.minute + time.second / 60\n",
    "\n",
    "# 랜덤한 시간 생성\n",
    "def generate_start_times(num_passengers, start_hour=9, end_hour=10):\n",
    "    start_times = []\n",
    "    for _ in range(num_passengers):\n",
    "        # 랜덤한 출발 시간 (분 단위)\n",
    "        start_time = datetime(2024, 1, 1, start_hour, 0, 0) + timedelta(\n",
    "            minutes=rd.randint(0, (end_hour - start_hour) * 60 - 1, ), seconds=rd.randint(0, 59)\n",
    "        )\n",
    "        # 시간을 분 단위로 변환\n",
    "        start_time_minutes = convert_to_minutes(start_time)\n",
    "        start_times.append(start_time_minutes)\n",
    "    return start_times\n",
    "\n",
    "# 출발시간 기반으로 탑승시간 계산 함수\n",
    "def calculate_boarding_time(start_times):\n",
    "    boarding_times = []\n",
    "    for start_time in start_times:\n",
    "        # 버스는 10분 간격으로 출발한다고 가정\n",
    "        boarding_time = math.ceil(start_time / 10) * 10\n",
    "        boarding_times.append(boarding_time)\n",
    "    return boarding_times\n",
    "\n",
    "# OD 데이터와 출발 시간, 탑승 시간 데이터프레임 생성\n",
    "def create_od_dataframe(point, num_passengers, start_hour=9, end_hour=10):\n",
    "    # OD 데이터 생성\n",
    "    OD_data = get_OD_data(point, num_passengers)\n",
    "    # 랜덤 출발 시간 생성\n",
    "    start_times = generate_start_times(num_passengers, start_hour, end_hour)\n",
    "    # 탑승 시간 계산\n",
    "    boarding_times = calculate_boarding_time(start_times)\n",
    "    \n",
    "    # 데이터프레임 생성\n",
    "    data = []\n",
    "    for (start_station, end_station), start_time, boarding_time in zip(OD_data, start_times, boarding_times):\n",
    "        data.append({\n",
    "            \"출발시간\": start_time,\n",
    "            \"탑승시간\": boarding_time,\n",
    "            \"탑승위치(Station_id)\": start_station,\n",
    "            \"하차위치(Station_id)\": end_station,\n",
    "        })\n",
    "    df = pd.DataFrame(data)\n",
    "    return df\n",
    "\n",
    "def extract_od_and_start_time(df):\n",
    "    # OD 데이터를 추출\n",
    "    od_data = [[row['탑승위치(Station_id)'], row['하차위치(Station_id)']] for _, row in df.iterrows()]\n",
    "    # 출발시간 데이터를 추출\n",
    "    start_time = df['출발시간'].tolist()\n",
    "    boarding_time = df['탑승시간'].tolist()\n",
    "    return od_data, start_time, boarding_time"
   ]
  },
  {
   "cell_type": "code",
   "execution_count": 29,
   "metadata": {},
   "outputs": [],
   "source": [
    "# 데이터 좌표\n",
    "point = {\n",
    "    \"중앙시장사거리\" : [127.131770, 37.440888],\n",
    "    \"숯골사거리\" : [127.142398 , 37.444055],\n",
    "    \"동부센트레빌2단지아파트\" : [127.129460 , 37.447540],\n",
    "    \"수진역\" : [127.140851 , 37.437443],\n",
    "    \"개별용달\" : [127.139292 , 37.446605],\n",
    "    \"버거킹\" : [127.150505 , 37.442235],\n",
    "}"
   ]
  },
  {
   "cell_type": "code",
   "execution_count": 28,
   "metadata": {},
   "outputs": [
    {
     "data": {
      "text/html": [
       "<div>\n",
       "<style scoped>\n",
       "    .dataframe tbody tr th:only-of-type {\n",
       "        vertical-align: middle;\n",
       "    }\n",
       "\n",
       "    .dataframe tbody tr th {\n",
       "        vertical-align: top;\n",
       "    }\n",
       "\n",
       "    .dataframe thead th {\n",
       "        text-align: right;\n",
       "    }\n",
       "</style>\n",
       "<table border=\"1\" class=\"dataframe\">\n",
       "  <thead>\n",
       "    <tr style=\"text-align: right;\">\n",
       "      <th></th>\n",
       "      <th>출발시간</th>\n",
       "      <th>탑승시간</th>\n",
       "      <th>탑승위치(Station_id)</th>\n",
       "      <th>하차위치(Station_id)</th>\n",
       "    </tr>\n",
       "  </thead>\n",
       "  <tbody>\n",
       "    <tr>\n",
       "      <th>0</th>\n",
       "      <td>589.783333</td>\n",
       "      <td>590</td>\n",
       "      <td>POINT (127.139292 37.446605)</td>\n",
       "      <td>POINT (127.142398 37.444055)</td>\n",
       "    </tr>\n",
       "    <tr>\n",
       "      <th>1</th>\n",
       "      <td>559.033333</td>\n",
       "      <td>560</td>\n",
       "      <td>POINT (127.13177 37.440888)</td>\n",
       "      <td>POINT (127.140851 37.437443)</td>\n",
       "    </tr>\n",
       "    <tr>\n",
       "      <th>2</th>\n",
       "      <td>582.916667</td>\n",
       "      <td>590</td>\n",
       "      <td>POINT (127.140851 37.437443)</td>\n",
       "      <td>POINT (127.13177 37.440888)</td>\n",
       "    </tr>\n",
       "    <tr>\n",
       "      <th>3</th>\n",
       "      <td>568.700000</td>\n",
       "      <td>570</td>\n",
       "      <td>POINT (127.140851 37.437443)</td>\n",
       "      <td>POINT (127.142398 37.444055)</td>\n",
       "    </tr>\n",
       "    <tr>\n",
       "      <th>4</th>\n",
       "      <td>563.766667</td>\n",
       "      <td>570</td>\n",
       "      <td>POINT (127.142398 37.444055)</td>\n",
       "      <td>POINT (127.139292 37.446605)</td>\n",
       "    </tr>\n",
       "  </tbody>\n",
       "</table>\n",
       "</div>"
      ],
      "text/plain": [
       "         출발시간  탑승시간              탑승위치(Station_id)  \\\n",
       "0  589.783333   590  POINT (127.139292 37.446605)   \n",
       "1  559.033333   560   POINT (127.13177 37.440888)   \n",
       "2  582.916667   590  POINT (127.140851 37.437443)   \n",
       "3  568.700000   570  POINT (127.140851 37.437443)   \n",
       "4  563.766667   570  POINT (127.142398 37.444055)   \n",
       "\n",
       "               하차위치(Station_id)  \n",
       "0  POINT (127.142398 37.444055)  \n",
       "1  POINT (127.140851 37.437443)  \n",
       "2   POINT (127.13177 37.440888)  \n",
       "3  POINT (127.142398 37.444055)  \n",
       "4  POINT (127.139292 37.446605)  "
      ]
     },
     "execution_count": 28,
     "metadata": {},
     "output_type": "execute_result"
    }
   ],
   "source": [
    "df = create_od_dataframe(point, 40, start_hour=9, end_hour=10)\n",
    "df.head()"
   ]
  },
  {
   "cell_type": "code",
   "execution_count": 45,
   "metadata": {},
   "outputs": [],
   "source": [
    "# 사용할 수 있는 형태로 변경\n",
    "OD_data, start_time, boarding_time = extract_od_and_start_time(df)"
   ]
  },
  {
   "cell_type": "code",
   "execution_count": 78,
   "metadata": {},
   "outputs": [
    {
     "data": {
      "text/plain": [
       "[589.7833333333333,\n",
       " 559.0333333333333,\n",
       " 582.9166666666666,\n",
       " 568.7,\n",
       " 563.7666666666667,\n",
       " 581.0666666666667,\n",
       " 598.85,\n",
       " 563.85,\n",
       " 548.95,\n",
       " 553.3833333333333,\n",
       " 591.9,\n",
       " 568.65,\n",
       " 585.6,\n",
       " 558.2166666666667,\n",
       " 581.0666666666667,\n",
       " 582.1166666666667,\n",
       " 586.45,\n",
       " 544.8833333333333,\n",
       " 552.8833333333333,\n",
       " 584.8,\n",
       " 576.4166666666666,\n",
       " 564.1666666666666,\n",
       " 563.1,\n",
       " 573.8833333333333,\n",
       " 556.95,\n",
       " 586.1833333333333,\n",
       " 589.75,\n",
       " 540.3,\n",
       " 554.7833333333333,\n",
       " 581.7833333333333,\n",
       " 571.6666666666666,\n",
       " 571.4833333333333,\n",
       " 594.2666666666667,\n",
       " 562.7666666666667,\n",
       " 587.4833333333333,\n",
       " 554.7666666666667,\n",
       " 575.9833333333333,\n",
       " 542.5166666666667,\n",
       " 541.4833333333333,\n",
       " 593.85]"
      ]
     },
     "execution_count": 78,
     "metadata": {},
     "output_type": "execute_result"
    }
   ],
   "source": [
    "start_time"
   ]
  },
  {
   "cell_type": "markdown",
   "metadata": {},
   "source": [
    "##### trips 데이터 생성"
   ]
  },
  {
   "cell_type": "markdown",
   "metadata": {},
   "source": [
    "- 뒤의 20명은 OSRM을 통해 목적지까지 라우팅하되, 통행속도를 5km/h로 가정\n",
    "\n",
    "- 탑승시간이란 컬럼 없이, 출발시간에 바로 출발"
   ]
  },
  {
   "cell_type": "code",
   "execution_count": 34,
   "metadata": {},
   "outputs": [],
   "source": [
    "## 뒤의 20명은 OSRM을 통해 목적지까지 라우팅하되, 통행속도를 5km/h로 가정.\n",
    "## 여기선 탑승시간이란 컬럼 없이, 출발시간에 바로 출발할 수 있도록\n",
    "# OD, DO 포인트에 대해서 각각의 trips데이터를 생성\n",
    "OD_data_foot = OD_data[20:]\n",
    "OD_results_foot = osrm_routing_machine_multiprocess_all(OD_data, 'foot', 5)"
   ]
  },
  {
   "cell_type": "code",
   "execution_count": 57,
   "metadata": {},
   "outputs": [],
   "source": [
    "# 생성된 트립 데이터에 출발시간을 변경\n",
    "def update_timestamps_with_start_time(OD_results, start_times):\n",
    "    # OD_results와 start_times를 순회하며 타임스탬프 갱신\n",
    "    updated_results = []\n",
    "    for result, start_time in zip(OD_results, start_times):\n",
    "        # 기존 timestamp를 start_time과 합산\n",
    "        updated_timestamps = [t + start_time for t in result['timestamp']]\n",
    "        # 기존 결과를 복사하고 timestamp를 업데이트\n",
    "        updated_result = result.copy()\n",
    "        updated_result['timestamp'] = updated_timestamps\n",
    "        updated_results.append(updated_result)\n",
    "    return updated_results\n",
    "\n",
    "start_time_foot = start_time[20:]\n",
    "updated_OD_results_foot = update_timestamps_with_start_time(OD_results_foot, start_time_foot)"
   ]
  },
  {
   "cell_type": "code",
   "execution_count": 62,
   "metadata": {},
   "outputs": [
    {
     "name": "stdout",
     "output_type": "stream",
     "text": [
      "576.4166666666666\n",
      "586.3946666666666\n"
     ]
    }
   ],
   "source": [
    "print(updated_OD_results_foot[0]['timestamp'][0])\n",
    "print(updated_OD_results_foot[0]['timestamp'][-1])"
   ]
  },
  {
   "cell_type": "markdown",
   "metadata": {},
   "source": [
    "- 앞의 20명은 OSRM을 통해 목적지까지 라우팅. 통행속도 30km/h로 주행\n",
    "- 배차간격을 10분이라고 가정하고, 이에 맞춰서 탑승시간이라는 컬럼을 생성하는 코드 추가.\n",
    "모든 정류소에서 10분마다 차가 출발한다고 가정."
   ]
  },
  {
   "cell_type": "code",
   "execution_count": 63,
   "metadata": {},
   "outputs": [],
   "source": [
    "OD_data_car = OD_data[0:20]\n",
    "OD_results_car = osrm_routing_machine_multiprocess_all(OD_data_car, 'car', 30)"
   ]
  },
  {
   "cell_type": "code",
   "execution_count": 64,
   "metadata": {},
   "outputs": [],
   "source": [
    "# 생성된 트립 데이터에 출발시간을 변경\n",
    "def update_timestamps_route(OD_results, start_times, boarding_time):\n",
    "    # OD_results와 start_times를 순회하며 타임스탬프 갱신\n",
    "    updated_results = []\n",
    "    for result, start_time, boarding_time in zip(OD_results, start_times, boarding_time):\n",
    "        # 기존 timestamp를 boarding_time으로 조정하고, start_time을 맨 앞에 추가\n",
    "        updated_timestamps = [start_time] + [t + boarding_time for t in result['timestamp']]\n",
    "        # 기존 결과를 복사하고 timestamp를 업데이트\n",
    "        updated_result = result.copy()\n",
    "        updated_result['timestamp'] = updated_timestamps\n",
    "        \n",
    "        # route의 첫 번째 항목 복제 후 맨 앞에 추가\n",
    "        updated_result['route'].insert(0, updated_result['route'][0])\n",
    "        \n",
    "        updated_results.append(updated_result)\n",
    "    return updated_results\n",
    "\n",
    "start_time_car = start_time[0:20]\n",
    "boarding_time_car = boarding_time[0:20]\n",
    "\n",
    "updated_OD_results_car = update_timestamps_route(OD_results_car, start_time_car, boarding_time_car)"
   ]
  },
  {
   "cell_type": "code",
   "execution_count": 65,
   "metadata": {},
   "outputs": [
    {
     "name": "stdout",
     "output_type": "stream",
     "text": [
      "589.7833333333333\n",
      "591.663\n"
     ]
    }
   ],
   "source": [
    "print(updated_OD_results_car[0]['timestamp'][0])\n",
    "print(updated_OD_results_car[0]['timestamp'][-1])"
   ]
  },
  {
   "cell_type": "markdown",
   "metadata": {},
   "source": [
    "##### 포인트 데이터 생성 ( CAR를 타기 전 대기 )"
   ]
  },
  {
   "cell_type": "code",
   "execution_count": 66,
   "metadata": {},
   "outputs": [],
   "source": [
    "# 시뮬레이션에서 사람이 대기하다가 이동하는 것을 위해서 포인트 데이터 생성\n",
    "# ScatterplotLayer에 필요한 데이터 생성 함수\n",
    "def create_scatterplot_data(data):\n",
    "    scatterplot_data = []\n",
    "    for item in data:\n",
    "        if \"route\" in item and \"timestamp\" in item:\n",
    "            start_point = item[\"route\"][0]  # 첫 번째 좌표\n",
    "            start_time = item[\"timestamp\"][0]  # 타임스탬프 시작\n",
    "            end_time = item[\"timestamp\"][1] if len(item[\"timestamp\"]) > 1 else start_time  # 타임스탬프 종료\n",
    "            scatterplot_data.append({\n",
    "                \"coordinates\": start_point,\n",
    "                \"timestamp\": [start_time, end_time],\n",
    "            })\n",
    "    return scatterplot_data\n",
    "\n",
    "# 데이터 생성\n",
    "scatterplot_data = create_scatterplot_data(updated_OD_results_car)"
   ]
  },
  {
   "cell_type": "code",
   "execution_count": 75,
   "metadata": {},
   "outputs": [
    {
     "data": {
      "text/plain": [
       "{'coordinates': [127.13931, 37.44657], 'timestamp': [589.7833333333333, 590.0]}"
      ]
     },
     "execution_count": 75,
     "metadata": {},
     "output_type": "execute_result"
    }
   ],
   "source": [
    "scatterplot_data[0]"
   ]
  },
  {
   "cell_type": "markdown",
   "metadata": {},
   "source": [
    "##### 정류장 위치 아이콘 데이터"
   ]
  },
  {
   "cell_type": "code",
   "execution_count": 70,
   "metadata": {},
   "outputs": [
    {
     "data": {
      "text/plain": [
       "[{'name': '중앙시장사거리', 'coordinates': [127.13177, 37.440888]},\n",
       " {'name': '숯골사거리', 'coordinates': [127.142398, 37.444055]},\n",
       " {'name': '동부센트레빌2단지아파트', 'coordinates': [127.12946, 37.44754]},\n",
       " {'name': '수진역', 'coordinates': [127.140851, 37.437443]},\n",
       " {'name': '개별용달', 'coordinates': [127.139292, 37.446605]},\n",
       " {'name': '버거킹', 'coordinates': [127.150505, 37.442235]}]"
      ]
     },
     "execution_count": 70,
     "metadata": {},
     "output_type": "execute_result"
    }
   ],
   "source": [
    "icon_data = [{\"name\": name, \"coordinates\": coordinates} for name, coordinates in point.items()]\n",
    "icon_data"
   ]
  },
  {
   "cell_type": "markdown",
   "metadata": {},
   "source": [
    "##### 데이터에서 TIMESTAMP의 최소, 최대값 확인"
   ]
  },
  {
   "cell_type": "code",
   "execution_count": 71,
   "metadata": {},
   "outputs": [
    {
     "data": {
      "text/plain": [
       "(540.3, 626.9428)"
      ]
     },
     "execution_count": 71,
     "metadata": {},
     "output_type": "execute_result"
    }
   ],
   "source": [
    "###### 최대 시간을 봐서 시뮬레이션의 min, max 시간에 활용( 안 짤리도록 )\n",
    "# all_timestamps = []\n",
    "\n",
    "# for item in updated_OD_results_car + updated_OD_results_foot:\n",
    "#     all_timestamps.extend(item['timestamp'])\n",
    "\n",
    "# 리스트 컴프리헨션 쓰면 아주 편합니다.\n",
    "all_timestamps = [t for item in updated_OD_results_car + updated_OD_results_foot for t in item['timestamp']]\n",
    "# 최대값 계산\n",
    "max_timestamp = max(all_timestamps)\n",
    "min_timestamp = min(all_timestamps)\n",
    "\n",
    "min_timestamp, max_timestamp"
   ]
  },
  {
   "cell_type": "markdown",
   "metadata": {},
   "source": [
    "##### 데이터 저장"
   ]
  },
  {
   "cell_type": "code",
   "execution_count": 43,
   "metadata": {},
   "outputs": [],
   "source": [
    "# 데이터 저장\n",
    "path = '../simulation_modify/public/data/'\n",
    "\n",
    "with open(os.path.join(path + 'trips_foot.json'), 'w', encoding='utf-8') as file:\n",
    "    json.dump(updated_OD_results_foot, file)\n",
    "    \n",
    "with open(os.path.join(path + 'trips_car.json'), 'w', encoding='utf-8') as file:\n",
    "    json.dump(updated_OD_results_car, file)\n",
    "    \n",
    "with open(os.path.join(path + 'icon_data.json'), 'w', encoding='utf-8') as file:\n",
    "    json.dump(icon_data, file)\n",
    "    \n",
    "with open(os.path.join(path + 'trips_car_point.json'), 'w', encoding='utf-8') as file:\n",
    "    json.dump(scatterplot_data, file)"
   ]
  },
  {
   "cell_type": "markdown",
   "metadata": {},
   "source": [
    "#### DECKGL LAYER"
   ]
  },
  {
   "cell_type": "markdown",
   "metadata": {},
   "source": [
    "##### [1] SCATTERPLOT LAYER"
   ]
  },
  {
   "cell_type": "markdown",
   "metadata": {},
   "source": [
    "- DECKGL에서 점을 표시할 때 사용\n",
    "```JS\n",
    "    new ScatterplotLayer({\n",
    "      id: 'scatterplot-layer',  // LAYER ID\n",
    "      data: point_car, // DATA\n",
    "      getPosition: d => d.coordinates, // 위치\n",
    "      getFillColor: [255, 255, 255], // 색\n",
    "      getRadius: d => 3, // 점의 반지름\n",
    "      getLineWidth: 3, //선의 두께\n",
    "      radiusScale: 2, //반지름 값의 스케일( 확대, 축소)\n",
    "      pickable: true, // 상호작용 여부 ( 클릭, 마우스 오버 )\n",
    "      opacity: 0.5, // 투명도\n",
    "    }),\n",
    "\n",
    "\n",
    "```\n",
    "\n",
    "- 만약 시뮬레이션에서 ScatterplotLayer이 나타낫다가 사라지게 하고 싶다면 아래 코드를 사용\n",
    "- ScatterplotLayer에 사용하는 데이터에도 TIMESTAMP가 있어야 함\n",
    "- 입력 데이터에서 특정 시간 범위에 속하는 데이터만 포함된 배열을 반환하여 시각화 가능\n",
    "```JS\n",
    "    const currData = (data, time) => {\n",
    "    // 필터링된 데이터를 저장할 배열\n",
    "    const arr = [];\n",
    "\n",
    "    // 데이터 배열을 순회하며 각 항목에 대해 처리\n",
    "    data.forEach((v) => {\n",
    "      const timestamp = v.timestamp; // 데이터의 타임스탬프 배열\n",
    "      const s_t = timestamp[0]; // 타임스탬프 시작 시간\n",
    "      const e_t = timestamp[timestamp.length - 1]; // 타임스탬프 종료 시간\n",
    "\n",
    "      // 현재 시간(time)이 타임스탬프 범위(s_t, e_t) 내에 있는 경우\n",
    "      if (s_t <= time && e_t >= time) {\n",
    "        arr.push(v); // 해당 데이터를 결과 배열에 추가\n",
    "      }\n",
    "  });\n",
    "\n",
    "  // 필터링된 데이터 배열 반환\n",
    "  return arr;\n",
    "};\n",
    "```\n"
   ]
  },
  {
   "cell_type": "markdown",
   "metadata": {},
   "source": [
    "##### [2] ICON LAYER"
   ]
  },
  {
   "cell_type": "markdown",
   "metadata": {},
   "source": [
    "- DECKGL에서 아이콘( EX. MARKER ) 표시할 때 사용\n",
    "\n",
    "```JS\n",
    "    new IconLayer({\n",
    "      id: \"location\", // LAYER ID\n",
    "      data: stop, // DATA\n",
    "      sizeScale: 7, // ICON 크기 스케일 개수\n",
    "      iconAtlas: // ICON 주소\n",
    "        \"https://raw.githubusercontent.com/visgl/deck.gl-data/master/website/icon-atlas.png\",\n",
    "      iconMapping: ICON_MAPPING, // 스프라이트 시트 내 아이콘 위치 및 크키\n",
    "      getIcon: d => \"marker\", // ICON 이름\n",
    "      getSize: 2, // ICON 크기\n",
    "      getPosition: d => d.coordinates, // 위치( 위경도 )\n",
    "      getColor: [255, 0, 0], // 색\n",
    "      opacity: 1, // 투명도\n",
    "      mipmaps: false, // 텍스처 품질 및 메모리 최적화 사용 여부\n",
    "      pickable: true, // ICON 상호작용 여부\n",
    "      radiusMinPixels: 2, // 아이콘 최소 반지름\n",
    "      radiusMaxPixels: 2, // 아이콘 최대 반지름\n",
    "    }),\n",
    "\n",
    "\n",
    "```"
   ]
  },
  {
   "cell_type": "markdown",
   "metadata": {},
   "source": [
    "##### [3] POLYGON LAYER"
   ]
  },
  {
   "cell_type": "markdown",
   "metadata": {},
   "source": [
    "- 3D 입체를 표시할 때 사용\n",
    "```JS\n",
    "      \n",
    "    new PolygonLayer({\n",
    "      id: 'buildings', // LAYER ID\n",
    "      data: building, // DATA\n",
    "      extruded: true, // 다각형을 3D로 할지의 여부 ( TRUE : 높이 값을 사용하여 렌더링 )\n",
    "      wireframe: false, //다각형의 와이어 프레임 ( TRUE : 선만 보이게 렌더링 )\n",
    "      opacity: 0.5, // 투명도\n",
    "      getPolygon: f => f.coordinates, // 위경도\n",
    "      getElevation: f => f.height, // 높이\n",
    "      getFillColor: DEFAULT_THEME.buildingColor, // 색\n",
    "      material: DEFAULT_THEME.material // 다각형의 재질\n",
    "    }),\n",
    "\n",
    "```"
   ]
  },
  {
   "cell_type": "markdown",
   "metadata": {},
   "source": [
    "##### [4] LINE, PATH LAYER"
   ]
  },
  {
   "cell_type": "markdown",
   "metadata": {},
   "source": [
    "- 선을 그을 때 사용\n",
    "- LINE LAYER는 NODE( 점 데이터 ) 사용하여 이어서 표시 ( 시작점과 끝점을 연결하는 방식)\n",
    "- PATH LAYER는 이미 이어진 선( 여러 점으로 이어진 ) 데이터를 넣어서 표시\n",
    "```JS\n",
    "    new LineLayer({\n",
    "      id: 'line-layer', // LAYER ID\n",
    "      data: links, // DATA\n",
    "      getSourcePosition: d => nodes.find(node => node.name === d.source).coordinates, // 시작점 위경도\n",
    "      getTargetPosition: d => nodes.find(node => node.name === d.target).coordinates, // 끝점 위경도\n",
    "      getColor: [255, 255 ,255], // 색\n",
    "      opacity : 0.4, // 투명도\n",
    "      auto_highlight: true, // 사용자가 마우스를 올리면 하이라이트 활성화\n",
    "      highlight_color: [255, 255, 0], // 하이라이트 시 선의 색상\n",
    "      // picking_radius: 10,\n",
    "      widthMinPixels: 3, // 선의 최소 두께 설정\n",
    "    }),\n",
    "\n",
    "\n",
    "    \n",
    "    new PathLayer({  \n",
    "      id: 'lines', // LAYER ID\n",
    "      data: slinks, // DATA\n",
    "      getPath: d => d.lines, // 위경도\n",
    "      getColor: [0, 255 ,255], // 색\n",
    "      opacity: 0.001, // 투명도\n",
    "      widthMinPixels: 0.5, // 선의 최소 두께. 최대 두께 : widthMaxPixels\n",
    "      widthScale: 0.5, // 경로 두께를 조절하는 스케일\n",
    "      pickable: true, // 경로 상호작용 여부\n",
    "      rounded: true, // 경로의 끝과 꺾인 부분을 둥글게 렌더링\n",
    "      /* 최근 아래와 같이 나누어서 사용\n",
    "      capRounded : true,        \n",
    "      jointRounded : true\n",
    "      ============================================ */\n",
    "      shadowEnabled: false // 그림자 효과 비활성화\n",
    "\n",
    "    }),\n",
    "\n",
    "```"
   ]
  }
 ],
 "metadata": {
  "kernelspec": {
   "display_name": "base",
   "language": "python",
   "name": "python3"
  },
  "language_info": {
   "codemirror_mode": {
    "name": "ipython",
    "version": 3
   },
   "file_extension": ".py",
   "mimetype": "text/x-python",
   "name": "python",
   "nbconvert_exporter": "python",
   "pygments_lexer": "ipython3",
   "version": "3.12.2"
  }
 },
 "nbformat": 4,
 "nbformat_minor": 2
}
