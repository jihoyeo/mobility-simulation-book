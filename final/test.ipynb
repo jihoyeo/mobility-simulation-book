{
 "cells": [
  {
   "cell_type": "markdown",
   "metadata": {},
   "source": [
    "## 기말 과제 \n",
    "\n",
    "- 이메일 제출: jihoyeo@gachon.ac.kr\n",
    "- Python 코드 및 React 개발 코드를 압축하여 이름_학번.zip 형태로 제출\n",
    "- https://stackblitz.com 로 웹페이지 호스팅하여 URL 주소를 함께 이메일에 첨부할 것"
   ]
  },
  {
   "cell_type": "markdown",
   "metadata": {},
   "source": [
    "## [1] 주제 및 데이터\n",
    "\n",
    "### 1.1. 데이터\n",
    "- 아래 데이터는 가천대학교 학생들이 하루동안 이동한 예시 데이터입니다. 이 데이터는 다음과 같은 항목을 포함하고 있습니다. \n",
    "    - 출발시간, 출발위치, 도착위치\n",
    "- 출발위치와 도착위치는 가천대학교에서 운영하는 무당이의 정류소 기준이며, 각 정류소의 좌표는 `station_info.csv`에서 확인할 수 있다. "
   ]
  },
  {
   "cell_type": "code",
   "execution_count": 1,
   "metadata": {},
   "outputs": [],
   "source": [
    "import json\n",
    "import os\n",
    "import pandas as pd"
   ]
  },
  {
   "cell_type": "code",
   "execution_count": 2,
   "metadata": {},
   "outputs": [],
   "source": [
    "path = './data_final/'\n",
    "\n",
    "# Load the JSON file\n",
    "with open(os.path.join(path + 'stops_point.json'), \"r\", encoding=\"utf-8\") as json_file:\n",
    "    stops_point = json.load(json_file)\n",
    "\n",
    "with open(os.path.join(path + 'station_schedule.json'), \"r\", encoding=\"utf-8\") as json_file:\n",
    "    station_schedule = json.load(json_file)"
   ]
  },
  {
   "cell_type": "markdown",
   "metadata": {},
   "source": [
    "- `stops_point` 데이터는 무당이가 정차하는 station의 위경도 좌표를 포함합니다"
   ]
  },
  {
   "cell_type": "code",
   "execution_count": 3,
   "metadata": {},
   "outputs": [
    {
     "data": {
      "text/plain": [
       "{'가천대_ai공학관': [127.133374, 37.455009],\n",
       " '가천대_총학생회': [127.133923, 37.453348],\n",
       " '가천대_일반대학원': [127.130112, 37.452589],\n",
       " '가천대_반도체대학': [127.127384, 37.45091],\n",
       " '가천대_학생회관': [127.130121, 37.450268],\n",
       " '가천대_교육대학원': [127.131698, 37.452066]}"
      ]
     },
     "execution_count": 3,
     "metadata": {},
     "output_type": "execute_result"
    }
   ],
   "source": [
    "stops_point"
   ]
  },
  {
   "cell_type": "markdown",
   "metadata": {},
   "source": [
    "- `OD_data_ladybug.csv`은 가천대학교 학생들의 가상의 이동데이터 입니다.\n",
    "- 출발시간과, 탑승위치(Origin), 하차위치(Destination) 정보를 포함하고 있습니다.\n",
    "- 하지만, 이들은 아직 무당이를 탈지, 그냥 걸어서 갈지 결정하지 못한 상황입니다."
   ]
  },
  {
   "cell_type": "code",
   "execution_count": 4,
   "metadata": {},
   "outputs": [],
   "source": [
    "\n",
    "path = './data_final/'\n",
    "\n",
    "OD_data_ladybug = pd.read_csv(os.path.join(path + 'OD_data_ladybug.csv'), index_col=0)"
   ]
  },
  {
   "cell_type": "code",
   "execution_count": 5,
   "metadata": {},
   "outputs": [
    {
     "data": {
      "text/html": [
       "<div>\n",
       "<style scoped>\n",
       "    .dataframe tbody tr th:only-of-type {\n",
       "        vertical-align: middle;\n",
       "    }\n",
       "\n",
       "    .dataframe tbody tr th {\n",
       "        vertical-align: top;\n",
       "    }\n",
       "\n",
       "    .dataframe thead th {\n",
       "        text-align: right;\n",
       "    }\n",
       "</style>\n",
       "<table border=\"1\" class=\"dataframe\">\n",
       "  <thead>\n",
       "    <tr style=\"text-align: right;\">\n",
       "      <th></th>\n",
       "      <th>출발시간</th>\n",
       "      <th>탑승위치(Station_id)</th>\n",
       "      <th>탑승위치(정류장 이름)</th>\n",
       "      <th>하차위치(Station_id)</th>\n",
       "      <th>하차위치(정류장 이름)</th>\n",
       "    </tr>\n",
       "  </thead>\n",
       "  <tbody>\n",
       "    <tr>\n",
       "      <th>0</th>\n",
       "      <td>661.050000</td>\n",
       "      <td>POINT (127.127384 37.45091)</td>\n",
       "      <td>가천대_반도체대학</td>\n",
       "      <td>POINT (127.130121 37.450268)</td>\n",
       "      <td>가천대_학생회관</td>\n",
       "    </tr>\n",
       "    <tr>\n",
       "      <th>1</th>\n",
       "      <td>679.083333</td>\n",
       "      <td>POINT (127.133923 37.453348)</td>\n",
       "      <td>가천대_총학생회</td>\n",
       "      <td>POINT (127.127384 37.45091)</td>\n",
       "      <td>가천대_반도체대학</td>\n",
       "    </tr>\n",
       "    <tr>\n",
       "      <th>2</th>\n",
       "      <td>641.350000</td>\n",
       "      <td>POINT (127.127384 37.45091)</td>\n",
       "      <td>가천대_반도체대학</td>\n",
       "      <td>POINT (127.130112 37.452589)</td>\n",
       "      <td>가천대_일반대학원</td>\n",
       "    </tr>\n",
       "    <tr>\n",
       "      <th>3</th>\n",
       "      <td>632.150000</td>\n",
       "      <td>POINT (127.127384 37.45091)</td>\n",
       "      <td>가천대_반도체대학</td>\n",
       "      <td>POINT (127.133374 37.455009)</td>\n",
       "      <td>가천대_ai공학관</td>\n",
       "    </tr>\n",
       "    <tr>\n",
       "      <th>4</th>\n",
       "      <td>618.350000</td>\n",
       "      <td>POINT (127.127384 37.45091)</td>\n",
       "      <td>가천대_반도체대학</td>\n",
       "      <td>POINT (127.131698 37.452066)</td>\n",
       "      <td>가천대_교육대학원</td>\n",
       "    </tr>\n",
       "    <tr>\n",
       "      <th>...</th>\n",
       "      <td>...</td>\n",
       "      <td>...</td>\n",
       "      <td>...</td>\n",
       "      <td>...</td>\n",
       "      <td>...</td>\n",
       "    </tr>\n",
       "    <tr>\n",
       "      <th>295</th>\n",
       "      <td>999.450000</td>\n",
       "      <td>POINT (127.131698 37.452066)</td>\n",
       "      <td>가천대_교육대학원</td>\n",
       "      <td>POINT (127.130112 37.452589)</td>\n",
       "      <td>가천대_일반대학원</td>\n",
       "    </tr>\n",
       "    <tr>\n",
       "      <th>296</th>\n",
       "      <td>988.933333</td>\n",
       "      <td>POINT (127.130121 37.450268)</td>\n",
       "      <td>가천대_학생회관</td>\n",
       "      <td>POINT (127.133374 37.455009)</td>\n",
       "      <td>가천대_ai공학관</td>\n",
       "    </tr>\n",
       "    <tr>\n",
       "      <th>297</th>\n",
       "      <td>1002.350000</td>\n",
       "      <td>POINT (127.131698 37.452066)</td>\n",
       "      <td>가천대_교육대학원</td>\n",
       "      <td>POINT (127.133374 37.455009)</td>\n",
       "      <td>가천대_ai공학관</td>\n",
       "    </tr>\n",
       "    <tr>\n",
       "      <th>298</th>\n",
       "      <td>1024.083333</td>\n",
       "      <td>POINT (127.133374 37.455009)</td>\n",
       "      <td>가천대_ai공학관</td>\n",
       "      <td>POINT (127.131698 37.452066)</td>\n",
       "      <td>가천대_교육대학원</td>\n",
       "    </tr>\n",
       "    <tr>\n",
       "      <th>299</th>\n",
       "      <td>945.933333</td>\n",
       "      <td>POINT (127.131698 37.452066)</td>\n",
       "      <td>가천대_교육대학원</td>\n",
       "      <td>POINT (127.130121 37.450268)</td>\n",
       "      <td>가천대_학생회관</td>\n",
       "    </tr>\n",
       "  </tbody>\n",
       "</table>\n",
       "<p>300 rows × 5 columns</p>\n",
       "</div>"
      ],
      "text/plain": [
       "            출발시간              탑승위치(Station_id) 탑승위치(정류장 이름)  \\\n",
       "0     661.050000   POINT (127.127384 37.45091)    가천대_반도체대학   \n",
       "1     679.083333  POINT (127.133923 37.453348)     가천대_총학생회   \n",
       "2     641.350000   POINT (127.127384 37.45091)    가천대_반도체대학   \n",
       "3     632.150000   POINT (127.127384 37.45091)    가천대_반도체대학   \n",
       "4     618.350000   POINT (127.127384 37.45091)    가천대_반도체대학   \n",
       "..           ...                           ...          ...   \n",
       "295   999.450000  POINT (127.131698 37.452066)    가천대_교육대학원   \n",
       "296   988.933333  POINT (127.130121 37.450268)     가천대_학생회관   \n",
       "297  1002.350000  POINT (127.131698 37.452066)    가천대_교육대학원   \n",
       "298  1024.083333  POINT (127.133374 37.455009)    가천대_ai공학관   \n",
       "299   945.933333  POINT (127.131698 37.452066)    가천대_교육대학원   \n",
       "\n",
       "                 하차위치(Station_id) 하차위치(정류장 이름)  \n",
       "0    POINT (127.130121 37.450268)     가천대_학생회관  \n",
       "1     POINT (127.127384 37.45091)    가천대_반도체대학  \n",
       "2    POINT (127.130112 37.452589)    가천대_일반대학원  \n",
       "3    POINT (127.133374 37.455009)    가천대_ai공학관  \n",
       "4    POINT (127.131698 37.452066)    가천대_교육대학원  \n",
       "..                            ...          ...  \n",
       "295  POINT (127.130112 37.452589)    가천대_일반대학원  \n",
       "296  POINT (127.133374 37.455009)    가천대_ai공학관  \n",
       "297  POINT (127.133374 37.455009)    가천대_ai공학관  \n",
       "298  POINT (127.131698 37.452066)    가천대_교육대학원  \n",
       "299  POINT (127.130121 37.450268)     가천대_학생회관  \n",
       "\n",
       "[300 rows x 5 columns]"
      ]
     },
     "execution_count": 5,
     "metadata": {},
     "output_type": "execute_result"
    }
   ],
   "source": [
    "OD_data_ladybug"
   ]
  },
  {
   "cell_type": "markdown",
   "metadata": {},
   "source": [
    "### 1.2 분석 주제\n",
    "여러분은 이제 가천대학교 학생들의 Trip Planner가 되어야 합니다. 아래에 대한 솔루션을 제시해주세요. \n",
    "1. 개별 통행마다, 무당이를 타는 것이 시간이 절약될지, 걸어가는 것이 시간이 절약될지 판단해주세요. \n",
    "    - OD_data_ladybug에 `교통수단`이라는 컬럼을 만들어서 '무당이', '도보'를 구분해주세요.\n",
    "2. 학생들은 통행시간이 적게 걸리는 통행을 선택할겁니다. 무당이를 타는 학생과, 걸어가는 학생들을 Simulation 프레임워크를 이용해서 시각화 해보세요.\n",
    "    - 시뮬레이션은 Stackbliz를 통해 시각화 해야 합니다. \n",
    "    - 구축한 시뮬레이션의 웹호스팅 링크와 코드파일을 함께 제출해주세요. \n",
    "3. 총 몇명의 학생들이 무당이를 이용하고, 몇명의 학생들이 도보를 선택했나요?\n",
    "4. 무당이를 이용한 학생들의 평균 대기시간은 몇분인가요? "
   ]
  },
  {
   "cell_type": "markdown",
   "metadata": {},
   "source": [
    "## [2] 분석결과\n",
    "\n",
    "- 이곳에 여러분의 코드를 붙이고 시뮬레이션을 구현해보도록 합시다.\n",
    "- 다음의 순서대로 분석을 수행해주세요."
   ]
  }
 ],
 "metadata": {
  "kernelspec": {
   "display_name": "base",
   "language": "python",
   "name": "python3"
  },
  "language_info": {
   "codemirror_mode": {
    "name": "ipython",
    "version": 3
   },
   "file_extension": ".py",
   "mimetype": "text/x-python",
   "name": "python",
   "nbconvert_exporter": "python",
   "pygments_lexer": "ipython3",
   "version": "3.12.2"
  }
 },
 "nbformat": 4,
 "nbformat_minor": 2
}
